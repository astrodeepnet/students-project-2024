{
 "cells": [
  {
   "cell_type": "code",
   "id": "initial_id",
   "metadata": {
    "collapsed": true,
    "ExecuteTime": {
     "end_time": "2025-01-26T22:21:09.729911Z",
     "start_time": "2025-01-26T22:21:09.725402Z"
    }
   },
   "source": [
    "import pandas as pd\n",
    "import numpy as np\n",
    "from sqlalchemy.orm import sessionmaker\n",
    "from sqlalchemy import create_engine\n",
    "from astropy.io import fits\n",
    "from math import log10"
   ],
   "outputs": [],
   "execution_count": 4
  },
  {
   "metadata": {},
   "cell_type": "markdown",
   "source": "# Database Connection",
   "id": "f2f701404701bfe2"
  },
  {
   "metadata": {
    "ExecuteTime": {
     "end_time": "2025-01-26T22:21:11.472434Z",
     "start_time": "2025-01-26T22:21:11.466415Z"
    }
   },
   "cell_type": "code",
   "source": [
    "from src.database.connection import DATABASE_URL\n",
    "\n",
    "engine = create_engine(DATABASE_URL)\n",
    "Session = sessionmaker(bind=engine)\n",
    "session = Session()\n"
   ],
   "id": "91c4a60450b0e991",
   "outputs": [],
   "execution_count": 5
  },
  {
   "metadata": {},
   "cell_type": "markdown",
   "source": "# Functions definition",
   "id": "5c9213be98e4ca77"
  },
  {
   "metadata": {
    "ExecuteTime": {
     "end_time": "2025-01-26T22:21:12.780607Z",
     "start_time": "2025-01-26T22:21:12.775004Z"
    }
   },
   "cell_type": "code",
   "source": [
    "def classify_spectral(teff):\n",
    "    if teff is None or np.isnan(teff):\n",
    "        return None\n",
    "    if teff > 28000:\n",
    "        return 'O'\n",
    "    elif 10000 <= teff <= 28000:\n",
    "        return 'B'\n",
    "    elif 7500 <= teff < 10000:\n",
    "        return 'A'\n",
    "    elif 6000 <= teff < 7500:\n",
    "        return 'F'\n",
    "    elif 5200 <= teff < 6000:\n",
    "        return 'G'\n",
    "    elif 3700 <= teff < 5200:\n",
    "        return 'K'\n",
    "    elif teff < 3700:\n",
    "        return 'M'\n",
    "    else:\n",
    "        return None"
   ],
   "id": "7ab2d6bc0dbaec3a",
   "outputs": [],
   "execution_count": 6
  },
  {
   "metadata": {
    "ExecuteTime": {
     "end_time": "2025-01-26T22:21:13.359229Z",
     "start_time": "2025-01-26T22:21:13.352174Z"
    }
   },
   "cell_type": "code",
   "source": [
    "def classify_lum_logg(logg):\n",
    "    \"\"\"\n",
    "    Classe de luminosité basée sur logg, en utilisant \n",
    "    toute la nomenclature (Ia-O, Ia, Ib, II, III, IV, V, VI, D).\n",
    "    \n",
    "    Les seuils sont tirés de principes empiriques et peuvent varier\n",
    "    selon la métallicité / type spectral. \n",
    "    Cf. Gray & Corbally 2009, Morgan & Keenan 1973.\n",
    "    \"\"\"\n",
    "    if logg is None or np.isnan(logg):\n",
    "        return None\n",
    "\n",
    "    if logg < 0.0:\n",
    "        return 'Ia-O'\n",
    "    elif 0.0 <= logg < 0.5:\n",
    "        return 'Ia'\n",
    "    elif 0.5 <= logg < 1.0:\n",
    "        return 'Ib'\n",
    "    elif 1.0 <= logg < 1.5:\n",
    "        return 'II'\n",
    "    elif 1.5 <= logg < 3.0:\n",
    "        return 'III'\n",
    "    elif 3.0 <= logg < 3.5:\n",
    "        return 'IV'\n",
    "    elif 3.5 <= logg < 5.0:\n",
    "        return 'V'\n",
    "    elif 5.0 <= logg < 7.0:\n",
    "        return 'VI'\n",
    "    elif logg >= 7.0:\n",
    "        return 'D'\n",
    "    else:\n",
    "        return None\n",
    "\n"
   ],
   "id": "ad4c8ca0da2bb2db",
   "outputs": [],
   "execution_count": 7
  },
  {
   "metadata": {
    "ExecuteTime": {
     "end_time": "2025-01-26T22:21:13.790519Z",
     "start_time": "2025-01-26T22:21:13.782003Z"
    }
   },
   "cell_type": "code",
   "source": [
    "def classify_lum_j(parallax_mas, j_val):\n",
    "    \"\"\"\n",
    "    Calcule la classe de luminosité via la magnitude absolue M_J,\n",
    "    si la parallaxe (en mas) et la magnitude apparente J sont disponibles.\n",
    "    \n",
    "    Paramètres\n",
    "    ----------\n",
    "    parallax_mas : float\n",
    "        Parallaxe en millisecondes d'arc (mas).\n",
    "    j_val : float\n",
    "        Magnitude apparente dans la bande J.\n",
    "\n",
    "    Renvoie\n",
    "    -------\n",
    "    str : la classe de luminosité (Ia-O, Ia, Ib, II, III, IV, V, VI, D) \n",
    "          ou None si impossibilité de calcul.\n",
    "    \"\"\"\n",
    "    # Vérifications de base\n",
    "    if (parallax_mas is None or np.isnan(parallax_mas) or parallax_mas <= 0.0 or\n",
    "        j_val is None or np.isnan(j_val)):\n",
    "        return None\n",
    "    \n",
    "    # Distance en parsecs\n",
    "    d_pc = 1000.0 / parallax_mas\n",
    "\n",
    "    # Magnitude absolue en bande J\n",
    "    M_j = j_val + 5.0 - 5.0 * np.log10(d_pc)\n",
    "\n",
    "    # Seuils indicatifs pour les classes de luminosité \n",
    "    if M_j <= -9:\n",
    "        return 'Ia-O'\n",
    "    elif -9 < M_j <= -7:\n",
    "        return 'Ia'\n",
    "    elif -7 < M_j <= -5:\n",
    "        return 'Ib'\n",
    "    elif -5 < M_j <= -2:\n",
    "        return 'II'\n",
    "    elif -2 < M_j <= 2:\n",
    "        return 'III'\n",
    "    elif 2 < M_j <= 4:\n",
    "        return 'IV'\n",
    "    elif 4 < M_j <= 9:\n",
    "        return 'V'\n",
    "    elif 9 < M_j <= 12:\n",
    "        return 'VI'\n",
    "    elif M_j > 12:\n",
    "        return 'D'\n",
    "    else:\n",
    "        return None\n"
   ],
   "id": "8b5422911499f2e4",
   "outputs": [],
   "execution_count": 8
  },
  {
   "metadata": {
    "ExecuteTime": {
     "end_time": "2025-01-26T22:21:14.173403Z",
     "start_time": "2025-01-26T22:21:14.163207Z"
    }
   },
   "cell_type": "code",
   "source": [
    "import numpy as np\n",
    "\n",
    "def classify_lum_jhk(parallax_mas, j_val, h_val, k_val):\n",
    "    \"\"\"\n",
    "    Approximation de la classe de luminosité via les 3 bandes J, H, K.\n",
    "    \n",
    "    1) Calcule la magnitude absolue dans chaque bande (M_J, M_H, M_K)\n",
    "       en utilisant la parallaxe (en mas).\n",
    "    2) Calcule une moyenne (ou \"pseudo\" magnitude absolue) :\n",
    "         M_avg = (M_J + M_H + M_K) / 3\n",
    "    3) Applique des seuils empiriques (Ia-O, Ia, Ib, II, III, IV, V, VI, D).\n",
    "    \n",
    "    Paramètres\n",
    "    ----------\n",
    "    parallax_mas : float\n",
    "        Parallaxe en millisecondes d'arc. Doit être > 0 pour calculer une distance.\n",
    "    j_val, h_val, k_val : float\n",
    "        Magnitudes apparentes dans les bandes J, H, K.\n",
    "    \n",
    "    Renvoie\n",
    "    -------\n",
    "    str : la classe de luminosité (Ia-O, Ia, Ib, II, III, IV, V, VI, D)\n",
    "          ou None si on ne peut pas la déterminer.\n",
    "    \"\"\"\n",
    "    # Vérifications de base : si l'une des valeurs est invalide\n",
    "    if (parallax_mas is None or parallax_mas <= 0 or np.isnan(parallax_mas) or\n",
    "        j_val is None or np.isnan(j_val) or\n",
    "        h_val is None or np.isnan(h_val) or\n",
    "        k_val is None or np.isnan(k_val)):\n",
    "        return None\n",
    "\n",
    "    # Distance en parsecs\n",
    "    d_pc = 1000.0 / parallax_mas\n",
    "\n",
    "    # Loi du \"distance modulus\" : M_lambda = m_lambda + 5 - 5*log10(d)\n",
    "    M_j = j_val + 5.0 - 5.0 * np.log10(d_pc)\n",
    "    M_h = h_val + 5.0 - 5.0 * np.log10(d_pc)\n",
    "    M_k = k_val + 5.0 - 5.0 * np.log10(d_pc)\n",
    "\n",
    "    # On peut faire la moyenne (Moyenne arithmétique simple)\n",
    "    M_avg = (M_j + M_h + M_k) / 3.0\n",
    "\n",
    "    # Seuils indicatifs (varient selon la littérature)\n",
    "    # Cf. ex.:\n",
    "    #  - Allen’s Astrophysical Quantities (4th ed.)\n",
    "    #  - Gray & Corbally 2009\n",
    "    #  - Morgan & Keenan 1973\n",
    "    # Adaptés ici à titre d'exemple :\n",
    "    if M_avg <= -9:\n",
    "        return 'Ia-O'  # extrêmes supergéantes\n",
    "    elif -9 < M_avg <= -7:\n",
    "        return 'Ia'\n",
    "    elif -7 < M_avg <= -5:\n",
    "        return 'Ib'\n",
    "    elif -5 < M_avg <= -2:\n",
    "        return 'II'\n",
    "    elif -2 < M_avg <= 2:\n",
    "        return 'III'\n",
    "    elif 2 < M_avg <= 4:\n",
    "        return 'IV'\n",
    "    elif 4 < M_avg <= 9:\n",
    "        return 'V'\n",
    "    elif 9 < M_avg <= 12:\n",
    "        return 'VI'\n",
    "    elif M_avg > 12:\n",
    "        return 'D'\n",
    "    else:\n",
    "        return None\n"
   ],
   "id": "e8f47f6fb3aa5c42",
   "outputs": [],
   "execution_count": 9
  },
  {
   "metadata": {},
   "cell_type": "markdown",
   "source": "# Fetch data",
   "id": "4b491c24c53e4299"
  },
  {
   "metadata": {
    "ExecuteTime": {
     "end_time": "2025-01-26T22:21:15.853224Z",
     "start_time": "2025-01-26T22:21:15.802019Z"
    }
   },
   "cell_type": "code",
   "source": [
    "from src.database.creation import DatabaseTables\n",
    "Star = DatabaseTables.Star"
   ],
   "id": "add0273f204e962",
   "outputs": [],
   "execution_count": 10
  },
  {
   "metadata": {
    "ExecuteTime": {
     "end_time": "2025-01-26T22:21:49.238610Z",
     "start_time": "2025-01-26T22:21:16.624131Z"
    }
   },
   "cell_type": "code",
   "source": [
    "query = session.query(Star).limit(1000000)\n",
    "results = query.all()"
   ],
   "id": "6919828654bfd82c",
   "outputs": [],
   "execution_count": 11
  },
  {
   "metadata": {
    "ExecuteTime": {
     "end_time": "2025-01-26T22:21:59.079722Z",
     "start_time": "2025-01-26T22:21:55.548790Z"
    }
   },
   "cell_type": "code",
   "source": [
    "data = []\n",
    "for star_obj in results:\n",
    "    row = {\n",
    "        'apogee_id': star_obj.apogee_id,\n",
    "        'teff': star_obj.teff,\n",
    "        'logg': star_obj.logg,\n",
    "        'j': star_obj.j,\n",
    "        'h': star_obj.h,\n",
    "        'k': star_obj.k,\n",
    "    }\n",
    "    data.append(row)\n",
    "\n",
    "df = pd.DataFrame(data)"
   ],
   "id": "410309dbf216bc0b",
   "outputs": [],
   "execution_count": 12
  },
  {
   "metadata": {
    "ExecuteTime": {
     "end_time": "2025-01-26T22:28:26.163130Z",
     "start_time": "2025-01-26T22:22:01.620105Z"
    }
   },
   "cell_type": "code",
   "source": [
    "# load original data : \n",
    "hdulist = fits.open('../../data/allStarLite-dr17-synspec_rev1.fits')\n",
    "hdu1_data = hdulist[1].data\n",
    "df4 = pd.DataFrame(hdu1_data.tolist(), columns=hdu1_data.names)"
   ],
   "id": "cb4f99bdf9d31d94",
   "outputs": [],
   "execution_count": 13
  },
  {
   "metadata": {
    "ExecuteTime": {
     "end_time": "2025-01-26T22:29:20.390909Z",
     "start_time": "2025-01-26T22:28:39.811108Z"
    }
   },
   "cell_type": "code",
   "source": [
    "# Keep GAIAEDR3_PARALLAX and APOGEE_ID\n",
    "df4 = df4[['GAIAEDR3_PARALLAX', 'APOGEE_ID']]"
   ],
   "id": "6d0ab7f37429f209",
   "outputs": [],
   "execution_count": 14
  },
  {
   "metadata": {
    "ExecuteTime": {
     "end_time": "2025-01-26T22:29:26.003293Z",
     "start_time": "2025-01-26T22:29:20.399132Z"
    }
   },
   "cell_type": "code",
   "source": [
    "# Crossmatch and add parallax to df thanks to APOGEE_ID\n",
    "df = df.merge(df4, how='left', left_on='apogee_id', right_on='APOGEE_ID')\n",
    "df.drop(columns='APOGEE_ID', inplace=True)"
   ],
   "id": "260e32763ba11557",
   "outputs": [],
   "execution_count": 15
  },
  {
   "metadata": {
    "ExecuteTime": {
     "end_time": "2025-01-26T22:31:22.796382Z",
     "start_time": "2025-01-26T22:31:22.673374Z"
    }
   },
   "cell_type": "code",
   "source": [
    "# only keep rows with non missing values\n",
    "df = df.dropna()"
   ],
   "id": "3aaca9363c0d3416",
   "outputs": [],
   "execution_count": 16
  },
  {
   "metadata": {
    "ExecuteTime": {
     "end_time": "2025-01-26T22:31:24.559825Z",
     "start_time": "2025-01-26T22:31:24.279176Z"
    }
   },
   "cell_type": "code",
   "source": "df.describe()",
   "id": "80d348e88eec3fab",
   "outputs": [
    {
     "data": {
      "text/plain": [
       "                teff           logg              j              h  \\\n",
       "count  673546.000000  673546.000000  673546.000000  673546.000000   \n",
       "mean     4998.064787       3.095578      11.492302      10.750537   \n",
       "std      1333.710714       1.224553       3.770205       1.431515   \n",
       "min      3088.049805      -0.473392       5.520000       0.358000   \n",
       "25%      4393.051147       2.304122      10.424000       9.882000   \n",
       "50%      4794.252930       3.003841      11.409000      10.843000   \n",
       "75%      5203.591919       4.315453      12.381000      11.706000   \n",
       "max     19863.927734       5.370551      99.999001      99.999001   \n",
       "\n",
       "                   k  GAIAEDR3_PARALLAX  \n",
       "count  673546.000000      673546.000000  \n",
       "mean       10.732557           1.948934  \n",
       "std         3.773796           3.512633  \n",
       "min         4.856000         -10.957157  \n",
       "25%         9.731000           0.259973  \n",
       "50%        10.700000           0.787476  \n",
       "75%        11.528000           2.522387  \n",
       "max        99.999001         310.577301  "
      ],
      "text/html": [
       "<div>\n",
       "<style scoped>\n",
       "    .dataframe tbody tr th:only-of-type {\n",
       "        vertical-align: middle;\n",
       "    }\n",
       "\n",
       "    .dataframe tbody tr th {\n",
       "        vertical-align: top;\n",
       "    }\n",
       "\n",
       "    .dataframe thead th {\n",
       "        text-align: right;\n",
       "    }\n",
       "</style>\n",
       "<table border=\"1\" class=\"dataframe\">\n",
       "  <thead>\n",
       "    <tr style=\"text-align: right;\">\n",
       "      <th></th>\n",
       "      <th>teff</th>\n",
       "      <th>logg</th>\n",
       "      <th>j</th>\n",
       "      <th>h</th>\n",
       "      <th>k</th>\n",
       "      <th>GAIAEDR3_PARALLAX</th>\n",
       "    </tr>\n",
       "  </thead>\n",
       "  <tbody>\n",
       "    <tr>\n",
       "      <th>count</th>\n",
       "      <td>673546.000000</td>\n",
       "      <td>673546.000000</td>\n",
       "      <td>673546.000000</td>\n",
       "      <td>673546.000000</td>\n",
       "      <td>673546.000000</td>\n",
       "      <td>673546.000000</td>\n",
       "    </tr>\n",
       "    <tr>\n",
       "      <th>mean</th>\n",
       "      <td>4998.064787</td>\n",
       "      <td>3.095578</td>\n",
       "      <td>11.492302</td>\n",
       "      <td>10.750537</td>\n",
       "      <td>10.732557</td>\n",
       "      <td>1.948934</td>\n",
       "    </tr>\n",
       "    <tr>\n",
       "      <th>std</th>\n",
       "      <td>1333.710714</td>\n",
       "      <td>1.224553</td>\n",
       "      <td>3.770205</td>\n",
       "      <td>1.431515</td>\n",
       "      <td>3.773796</td>\n",
       "      <td>3.512633</td>\n",
       "    </tr>\n",
       "    <tr>\n",
       "      <th>min</th>\n",
       "      <td>3088.049805</td>\n",
       "      <td>-0.473392</td>\n",
       "      <td>5.520000</td>\n",
       "      <td>0.358000</td>\n",
       "      <td>4.856000</td>\n",
       "      <td>-10.957157</td>\n",
       "    </tr>\n",
       "    <tr>\n",
       "      <th>25%</th>\n",
       "      <td>4393.051147</td>\n",
       "      <td>2.304122</td>\n",
       "      <td>10.424000</td>\n",
       "      <td>9.882000</td>\n",
       "      <td>9.731000</td>\n",
       "      <td>0.259973</td>\n",
       "    </tr>\n",
       "    <tr>\n",
       "      <th>50%</th>\n",
       "      <td>4794.252930</td>\n",
       "      <td>3.003841</td>\n",
       "      <td>11.409000</td>\n",
       "      <td>10.843000</td>\n",
       "      <td>10.700000</td>\n",
       "      <td>0.787476</td>\n",
       "    </tr>\n",
       "    <tr>\n",
       "      <th>75%</th>\n",
       "      <td>5203.591919</td>\n",
       "      <td>4.315453</td>\n",
       "      <td>12.381000</td>\n",
       "      <td>11.706000</td>\n",
       "      <td>11.528000</td>\n",
       "      <td>2.522387</td>\n",
       "    </tr>\n",
       "    <tr>\n",
       "      <th>max</th>\n",
       "      <td>19863.927734</td>\n",
       "      <td>5.370551</td>\n",
       "      <td>99.999001</td>\n",
       "      <td>99.999001</td>\n",
       "      <td>99.999001</td>\n",
       "      <td>310.577301</td>\n",
       "    </tr>\n",
       "  </tbody>\n",
       "</table>\n",
       "</div>"
      ]
     },
     "execution_count": 17,
     "metadata": {},
     "output_type": "execute_result"
    }
   ],
   "execution_count": 17
  },
  {
   "metadata": {},
   "cell_type": "markdown",
   "source": "# Classification",
   "id": "12a038fb181e27e4"
  },
  {
   "metadata": {
    "ExecuteTime": {
     "end_time": "2025-01-26T22:31:29.151145Z",
     "start_time": "2025-01-26T22:31:27.622594Z"
    }
   },
   "cell_type": "code",
   "source": [
    "df['class_spectral'] = df['teff'].apply(classify_spectral)\n",
    "\n",
    "# descrine spectrla class\n",
    "df['class_spectral'].value_counts()\n"
   ],
   "id": "4c745652cb600ae1",
   "outputs": [
    {
     "data": {
      "text/plain": [
       "class_spectral\n",
       "K    473163\n",
       "G    104624\n",
       "F     43664\n",
       "M     31492\n",
       "B     10495\n",
       "A     10108\n",
       "Name: count, dtype: int64"
      ]
     },
     "execution_count": 18,
     "metadata": {},
     "output_type": "execute_result"
    }
   ],
   "execution_count": 18
  },
  {
   "metadata": {
    "ExecuteTime": {
     "end_time": "2025-01-26T22:31:32.066094Z",
     "start_time": "2025-01-26T22:31:30.696865Z"
    }
   },
   "cell_type": "code",
   "source": [
    "df['class_lum_logg'] = df['logg'].apply(classify_lum_logg)\n",
    "\n",
    "# describe lum logg class\n",
    "df['class_lum_logg'].value_counts()"
   ],
   "id": "a4037bbe95e879b7",
   "outputs": [
    {
     "data": {
      "text/plain": [
       "class_lum_logg\n",
       "V       288522\n",
       "III     257879\n",
       "IV       48364\n",
       "II       41215\n",
       "Ib       29096\n",
       "Ia        6883\n",
       "Ia-O      1294\n",
       "VI         293\n",
       "Name: count, dtype: int64"
      ]
     },
     "execution_count": 19,
     "metadata": {},
     "output_type": "execute_result"
    }
   ],
   "execution_count": 19
  },
  {
   "metadata": {
    "ExecuteTime": {
     "end_time": "2025-01-26T22:31:47.105746Z",
     "start_time": "2025-01-26T22:31:33.231788Z"
    }
   },
   "cell_type": "code",
   "source": [
    "df['class_lum_j'] = df.apply(\n",
    "    lambda x: classify_lum_j(x['GAIAEDR3_PARALLAX'], x['j']),\n",
    "    axis=1\n",
    ")\n",
    "\n",
    "# describe lum j class\n",
    "df['class_lum_j'].value_counts()"
   ],
   "id": "1e5edc0c74e1247b",
   "outputs": [
    {
     "data": {
      "text/plain": [
       "class_lum_j\n",
       "III     305547\n",
       "IV      122609\n",
       "V       121199\n",
       "II       85276\n",
       "Ib        9472\n",
       "Ia        3136\n",
       "Ia-O      2007\n",
       "D         1035\n",
       "VI         331\n",
       "Name: count, dtype: int64"
      ]
     },
     "execution_count": 20,
     "metadata": {},
     "output_type": "execute_result"
    }
   ],
   "execution_count": 20
  },
  {
   "metadata": {
    "ExecuteTime": {
     "end_time": "2025-01-26T22:32:02.145823Z",
     "start_time": "2025-01-26T22:31:48.120901Z"
    }
   },
   "cell_type": "code",
   "source": [
    "\n",
    "df['class_lum_h'] = df.apply(\n",
    "    lambda x: classify_lum_j(x['GAIAEDR3_PARALLAX'], x['h']),\n",
    "    axis=1\n",
    ")\n",
    "\n",
    "# describe lum j class\n",
    "df['class_lum_h'].value_counts()"
   ],
   "id": "98ff0640d39a7581",
   "outputs": [
    {
     "data": {
      "text/plain": [
       "class_lum_h\n",
       "III     289707\n",
       "IV      129685\n",
       "II      109915\n",
       "V        93341\n",
       "Ib       19683\n",
       "Ia        5011\n",
       "Ia-O      3200\n",
       "VI          69\n",
       "D            1\n",
       "Name: count, dtype: int64"
      ]
     },
     "execution_count": 21,
     "metadata": {},
     "output_type": "execute_result"
    }
   ],
   "execution_count": 21
  },
  {
   "metadata": {
    "ExecuteTime": {
     "end_time": "2025-01-26T22:32:53.655171Z",
     "start_time": "2025-01-26T22:32:39.823987Z"
    }
   },
   "cell_type": "code",
   "source": [
    "\n",
    "df['class_lum_k'] = df.apply(\n",
    "    lambda x: classify_lum_j(x['GAIAEDR3_PARALLAX'], x['k']),\n",
    "    axis=1\n",
    ")\n",
    "\n",
    "# describe lum j class\n",
    "df['class_lum_k'].value_counts()"
   ],
   "id": "15aa5481c3ac958d",
   "outputs": [
    {
     "data": {
      "text/plain": [
       "class_lum_k\n",
       "III     281365\n",
       "IV      132283\n",
       "II      116622\n",
       "V        85582\n",
       "Ib       23936\n",
       "Ia        6060\n",
       "Ia-O      3696\n",
       "D         1035\n",
       "VI          33\n",
       "Name: count, dtype: int64"
      ]
     },
     "execution_count": 22,
     "metadata": {},
     "output_type": "execute_result"
    }
   ],
   "execution_count": 22
  },
  {
   "metadata": {
    "ExecuteTime": {
     "end_time": "2025-01-26T22:35:30.489066Z",
     "start_time": "2025-01-26T22:35:07.282738Z"
    }
   },
   "cell_type": "code",
   "source": [
    "df['class_lum_jhk'] = df.apply(\n",
    "    lambda x: classify_lum_jhk(x['GAIAEDR3_PARALLAX'], x['j'], x['h'], x['k']),\n",
    "    axis=1\n",
    ")\n",
    "\n",
    "# describe lum jhk class\n",
    "df['class_lum_jhk'].value_counts()"
   ],
   "id": "8f7206d520d3b51d",
   "outputs": [
    {
     "data": {
      "text/plain": [
       "class_lum_jhk\n",
       "III     293980\n",
       "IV      126211\n",
       "II      103684\n",
       "V       101592\n",
       "Ib       16735\n",
       "Ia        4422\n",
       "Ia-O      2878\n",
       "D         1035\n",
       "VI          75\n",
       "Name: count, dtype: int64"
      ]
     },
     "execution_count": 23,
     "metadata": {},
     "output_type": "execute_result"
    }
   ],
   "execution_count": 23
  },
  {
   "metadata": {
    "ExecuteTime": {
     "end_time": "2025-01-26T22:36:58.231677Z",
     "start_time": "2025-01-26T22:36:58.059886Z"
    }
   },
   "cell_type": "code",
   "source": [
    "# map light classes to numbers\n",
    "\n",
    "lum_map = {\n",
    "    'Ia-O': 0,\n",
    "    'Ia': 1,\n",
    "    'Ib': 2,\n",
    "    'II': 3,\n",
    "    'III': 4,\n",
    "    'IV': 5,\n",
    "    'V': 6,\n",
    "    'VI': 7,\n",
    "    'D': 8\n",
    "}\n",
    "\n",
    "df['class_lum_logg_mapped'] = df['class_lum_logg'].map(lum_map)\n",
    "df['class_lum_j_mapped'] = df['class_lum_j'].map(lum_map)\n",
    "df['class_lum_h_mapped'] = df['class_lum_h'].map(lum_map)\n",
    "df['class_lum_k_mapped'] = df['class_lum_k'].map(lum_map)\n",
    "df['class_lum_jhk_mapped'] = df['class_lum_jhk'].map(lum_map)\n",
    "\n"
   ],
   "id": "1293637aacba6654",
   "outputs": [],
   "execution_count": 25
  },
  {
   "metadata": {
    "ExecuteTime": {
     "end_time": "2025-01-26T22:37:00.684633Z",
     "start_time": "2025-01-26T22:37:00.466140Z"
    }
   },
   "cell_type": "code",
   "source": [
    "# display number of missing values\n",
    "df.isnull().sum()"
   ],
   "id": "6325e76c3f8b1ca1",
   "outputs": [
    {
     "data": {
      "text/plain": [
       "apogee_id                    0\n",
       "teff                         0\n",
       "logg                         0\n",
       "j                            0\n",
       "h                            0\n",
       "k                            0\n",
       "GAIAEDR3_PARALLAX            0\n",
       "class_spectral               0\n",
       "class_lum_logg               0\n",
       "class_lum_j              22934\n",
       "class_lum_h              22934\n",
       "class_lum_k              22934\n",
       "class_lum_jhk            22934\n",
       "class_lum_logg_mapped        0\n",
       "class_lum_j_mapped       22934\n",
       "class_lum_h_mapped       22934\n",
       "class_lum_k_mapped       22934\n",
       "class_lum_jhk_mapped     22934\n",
       "dtype: int64"
      ]
     },
     "execution_count": 26,
     "metadata": {},
     "output_type": "execute_result"
    }
   ],
   "execution_count": 26
  },
  {
   "metadata": {
    "ExecuteTime": {
     "end_time": "2025-01-26T22:37:04.388477Z",
     "start_time": "2025-01-26T22:37:04.102343Z"
    }
   },
   "cell_type": "code",
   "source": [
    "# drop missing values\n",
    "df = df.dropna()"
   ],
   "id": "690386d823ca46a8",
   "outputs": [],
   "execution_count": 27
  },
  {
   "metadata": {
    "ExecuteTime": {
     "end_time": "2025-01-25T16:58:26.008327Z",
     "start_time": "2025-01-25T16:58:26.005336Z"
    }
   },
   "cell_type": "code",
   "source": [
    "# calculate a score for each classification, get a matrix of distance between each classification\n",
    "#and plot it \n",
    "\n"
   ],
   "id": "13100d0c477a1861",
   "outputs": [],
   "execution_count": 61
  },
  {
   "metadata": {
    "ExecuteTime": {
     "end_time": "2025-01-26T22:37:18.280156Z",
     "start_time": "2025-01-26T22:37:16.071723Z"
    }
   },
   "cell_type": "code",
   "source": [
    "import numpy as np\n",
    "import pandas as pd\n",
    "import seaborn as sns\n",
    "import matplotlib.pyplot as plt\n",
    "\n",
    "# Exemple de colonnes correspondant à 5 méthodes\n",
    "lum_classes = [\n",
    "    'class_lum_logg_mapped',\n",
    "    'class_lum_j_mapped',\n",
    "    'class_lum_h_mapped',\n",
    "    'class_lum_k_mapped',\n",
    "    'class_lum_jhk_mapped'\n",
    "]\n",
    "\n",
    "# Vérifier qu'il n'y a pas de valeurs manquantes dans ces colonnes\n",
    "# (on part du principe que vous avez déjà fait df = df.dropna())\n",
    "print(df[lum_classes].isnull().sum())\n",
    "\n",
    "# Initialiser la matrice 5×5\n",
    "n_methods = len(lum_classes)\n",
    "distance_matrix = np.zeros((n_methods, n_methods))\n",
    "\n",
    "# Calcul de la distance moyenne entre chaque paire de méthodes\n",
    "for i in range(n_methods):\n",
    "    for j in range(n_methods):\n",
    "        # Différence absolue entre les deux colonnes, moyennée sur toutes les étoiles\n",
    "        mean_dist = (df[lum_classes[i]] - df[lum_classes[j]]).abs().mean()\n",
    "        distance_matrix[i, j] = mean_dist\n",
    "\n",
    "# Transformer en DataFrame pour facilité d'affichage\n",
    "dist_df = pd.DataFrame(\n",
    "    distance_matrix,\n",
    "    index=lum_classes,\n",
    "    columns=lum_classes\n",
    ")\n",
    "\n",
    "print(\"Matrice des distances moyennes entre méthodes :\")\n",
    "print(dist_df)\n",
    "\n",
    "# Heatmap pour visualiser\n",
    "plt.figure(figsize=(8,6))\n",
    "sns.heatmap(dist_df, annot=True, cmap='viridis')\n",
    "plt.title(\"Distance moyenne (Manhattan) entre méthodes de classification\")\n",
    "plt.show()\n"
   ],
   "id": "56d2ea9998ddd9f5",
   "outputs": [
    {
     "name": "stdout",
     "output_type": "stream",
     "text": [
      "class_lum_logg_mapped    0\n",
      "class_lum_j_mapped       0\n",
      "class_lum_h_mapped       0\n",
      "class_lum_k_mapped       0\n",
      "class_lum_jhk_mapped     0\n",
      "dtype: int64\n",
      "Matrice des distances moyennes entre méthodes :\n",
      "                       class_lum_logg_mapped  class_lum_j_mapped  \\\n",
      "class_lum_logg_mapped               0.000000            0.537837   \n",
      "class_lum_j_mapped                  0.537837            0.000000   \n",
      "class_lum_h_mapped                  0.651908            0.167624   \n",
      "class_lum_k_mapped                  0.695750            0.212566   \n",
      "class_lum_jhk_mapped                0.621748            0.117855   \n",
      "\n",
      "                       class_lum_h_mapped  class_lum_k_mapped  \\\n",
      "class_lum_logg_mapped            0.651908            0.695750   \n",
      "class_lum_j_mapped               0.167624            0.212566   \n",
      "class_lum_h_mapped               0.000000            0.058194   \n",
      "class_lum_k_mapped               0.058194            0.000000   \n",
      "class_lum_jhk_mapped             0.049836            0.094729   \n",
      "\n",
      "                       class_lum_jhk_mapped  \n",
      "class_lum_logg_mapped              0.621748  \n",
      "class_lum_j_mapped                 0.117855  \n",
      "class_lum_h_mapped                 0.049836  \n",
      "class_lum_k_mapped                 0.094729  \n",
      "class_lum_jhk_mapped               0.000000  \n"
     ]
    },
    {
     "data": {
      "text/plain": [
       "<Figure size 800x600 with 2 Axes>"
      ],
      "image/png": "[encoded data removed]"
     },
     "metadata": {},
     "output_type": "display_data"
    }
   ],
   "execution_count": 28
  },
  {
   "metadata": {},
   "cell_type": "code",
   "outputs": [],
   "execution_count": null,
   "source": "",
   "id": "6e10af191de72e99"
  }
 ],
 "metadata": {
  "kernelspec": {
   "display_name": "Python 3",
   "language": "python",
   "name": "python3"
  },
  "language_info": {
   "codemirror_mode": {
    "name": "ipython",
    "version": 2
   },
   "file_extension": ".py",
   "mimetype": "text/x-python",
   "name": "python",
   "nbconvert_exporter": "python",
   "pygments_lexer": "ipython2",
   "version": "2.7.6"
  }
 },
 "nbformat": 4,
 "nbformat_minor": 5
}
