{
 "cells": [
  {
   "cell_type": "code",
   "id": "initial_id",
   "metadata": {
    "collapsed": true,
    "ExecuteTime": {
     "end_time": "2025-01-28T13:47:38.577285Z",
     "start_time": "2025-01-28T13:47:38.573806Z"
    }
   },
   "source": [
    "import pandas as pd\n",
    "import numpy as np\n",
    "from sqlalchemy.orm import sessionmaker\n",
    "from sqlalchemy import create_engine\n",
    "from astropy.io import fits\n",
    "from math import log10"
   ],
   "outputs": [],
   "execution_count": 43
  },
  {
   "metadata": {},
   "cell_type": "markdown",
   "source": "# Database Connection",
   "id": "f2f701404701bfe2"
  },
  {
   "metadata": {
    "ExecuteTime": {
     "end_time": "2025-01-28T13:47:38.742156Z",
     "start_time": "2025-01-28T13:47:38.731626Z"
    }
   },
   "cell_type": "code",
   "source": [
    "from src.database.connection import DATABASE_URL\n",
    "\n",
    "engine = create_engine(DATABASE_URL)\n",
    "Session = sessionmaker(bind=engine)\n",
    "session = Session()\n"
   ],
   "id": "91c4a60450b0e991",
   "outputs": [],
   "execution_count": 44
  },
  {
   "metadata": {},
   "cell_type": "markdown",
   "source": "# Functions definition",
   "id": "5c9213be98e4ca77"
  },
  {
   "metadata": {
    "ExecuteTime": {
     "end_time": "2025-01-28T13:47:38.748439Z",
     "start_time": "2025-01-28T13:47:38.744164Z"
    }
   },
   "cell_type": "code",
   "source": [
    "def classify_spectral(teff):\n",
    "    if teff is None or np.isnan(teff):\n",
    "        return None\n",
    "    if teff > 28000:\n",
    "        return 'O'\n",
    "    elif 10000 <= teff <= 28000:\n",
    "        return 'B'\n",
    "    elif 7500 <= teff < 10000:\n",
    "        return 'A'\n",
    "    elif 6000 <= teff < 7500:\n",
    "        return 'F'\n",
    "    elif 5200 <= teff < 6000:\n",
    "        return 'G'\n",
    "    elif 3700 <= teff < 5200:\n",
    "        return 'K'\n",
    "    elif teff < 3700:\n",
    "        return 'M'\n",
    "    else:\n",
    "        return None"
   ],
   "id": "7ab2d6bc0dbaec3a",
   "outputs": [],
   "execution_count": 45
  },
  {
   "metadata": {
    "ExecuteTime": {
     "end_time": "2025-01-28T13:47:38.762177Z",
     "start_time": "2025-01-28T13:47:38.758003Z"
    }
   },
   "cell_type": "code",
   "source": [
    "def classify_lum_logg(logg):\n",
    "    \"\"\"\n",
    "    Classe de luminosité basée sur logg, en utilisant \n",
    "    toute la nomenclature (Ia-O, Ia, Ib, II, III, IV, V, VI, D).\n",
    "    \n",
    "    Les seuils sont définis empiriquements\n",
    "    \"\"\"\n",
    "    if logg is None or np.isnan(logg):\n",
    "        return None\n",
    "\n",
    "    if logg < 0.0:\n",
    "        return 'Ia-O'\n",
    "    elif 0.0 <= logg < 0.5:\n",
    "        return 'Ia'\n",
    "    elif 0.5 <= logg < 1.0:\n",
    "        return 'Ib'\n",
    "    elif 1.0 <= logg < 1.5:\n",
    "        return 'II'\n",
    "    elif 1.5 <= logg < 3.0:\n",
    "        return 'III'\n",
    "    elif 3.0 <= logg < 3.5:\n",
    "        return 'IV'\n",
    "    elif 3.5 <= logg < 5.0:\n",
    "        return 'V'\n",
    "    elif 5.0 <= logg < 7.0:\n",
    "        return 'VI'\n",
    "    elif logg >= 7.0:\n",
    "        return 'D'\n",
    "    else:\n",
    "        return None\n",
    "\n"
   ],
   "id": "ad4c8ca0da2bb2db",
   "outputs": [],
   "execution_count": 46
  },
  {
   "metadata": {
    "ExecuteTime": {
     "end_time": "2025-01-28T13:47:38.769699Z",
     "start_time": "2025-01-28T13:47:38.765646Z"
    }
   },
   "cell_type": "code",
   "source": [
    "def classify_lum_j(parallax_mas, j_val):\n",
    "\n",
    "    if (parallax_mas is None or np.isnan(parallax_mas) or parallax_mas <= 0.0 or\n",
    "        j_val is None or np.isnan(j_val)):\n",
    "        return None\n",
    "    \n",
    "    d_pc = 1000.0 / parallax_mas\n",
    "\n",
    "    M_j = j_val + 5.0 - 5.0 * np.log10(d_pc)\n",
    "\n",
    "    if M_j <= -9:\n",
    "        return 'Ia-O'\n",
    "    elif -9 < M_j <= -7:\n",
    "        return 'Ia'\n",
    "    elif -7 < M_j <= -5:\n",
    "        return 'Ib'\n",
    "    elif -5 < M_j <= -2:\n",
    "        return 'II'\n",
    "    elif -2 < M_j <= 2:\n",
    "        return 'III'\n",
    "    elif 2 < M_j <= 4:\n",
    "        return 'IV'\n",
    "    elif 4 < M_j <= 9:\n",
    "        return 'V'\n",
    "    elif 9 < M_j <= 12:\n",
    "        return 'VI'\n",
    "    elif M_j > 12:\n",
    "        return 'D'\n",
    "    else:\n",
    "        return None\n"
   ],
   "id": "8b5422911499f2e4",
   "outputs": [],
   "execution_count": 47
  },
  {
   "metadata": {
    "ExecuteTime": {
     "end_time": "2025-01-28T13:47:38.797697Z",
     "start_time": "2025-01-28T13:47:38.791930Z"
    }
   },
   "cell_type": "code",
   "source": [
    "light_classes_vector = []\n",
    "\n",
    "# Absolute magnitudes of the Sun in the J, H, K bands\n",
    "M_sun_J = 3.64\n",
    "M_sun_H = 3.32\n",
    "M_sun_K = 3.28\n",
    "\n",
    "def classify_lum_jhk(parallax_mas, j_val, h_val, k_val):\n",
    "    \"\"\"\n",
    "    Approximates the luminosity class using the J, H, K bands.\n",
    "    \n",
    "    1) Calculates the absolute magnitude in each band (M_J, M_H, M_K)\n",
    "       using the parallax (in milliarcseconds).\n",
    "    2) Normalizes each absolute magnitude relative to that of the Sun.\n",
    "    3) Calculates an average (or \"pseudo\" absolute magnitude):\n",
    "         M_avg = (M_J + M_H + M_K) / 3\n",
    "    4) Applies empirical thresholds to classify (Ia-O, Ia, Ib, II, III, IV, V, VI, D).\n",
    "    \n",
    "    Parameters\n",
    "    ----------\n",
    "    parallax_mas : float\n",
    "        Parallax in milliarcseconds. Must be > 0 to calculate a distance.\n",
    "    j_val, h_val, k_val : float\n",
    "        Apparent magnitudes in the J, H, K bands.\n",
    "    \n",
    "    Returns\n",
    "    -------\n",
    "    str : the luminosity class (Ia-O, Ia, Ib, II, III, IV, V, VI, D)\n",
    "          or None if it cannot be determined.\n",
    "    \"\"\"\n",
    "    # Basic checks: if any value is invalid\n",
    "    if (parallax_mas is None or parallax_mas <= 0 or np.isnan(parallax_mas) or\n",
    "        j_val is None or np.isnan(j_val) or\n",
    "        h_val is None or np.isnan(h_val) or\n",
    "        k_val is None or np.isnan(k_val)):\n",
    "        return None\n",
    "\n",
    "    # Distance in parsecs\n",
    "    d_pc = 1000.0 / parallax_mas\n",
    "\n",
    "    # Distance modulus formula: M_lambda = m_lambda + 5 - 5*log10(d)\n",
    "    M_j = j_val + 5.0 - 5.0 * np.log10(d_pc) - M_sun_J\n",
    "    M_h = h_val + 5.0 - 5.0 * np.log10(d_pc) - M_sun_H\n",
    "    M_k = k_val + 5.0 - 5.0 * np.log10(d_pc) - M_sun_K\n",
    "\n",
    "    # Calculate the average absolute magnitude (simple arithmetic mean)\n",
    "    M_avg = (M_j + M_h + M_k) / 3.0\n",
    "    \n",
    "    light_classes_vector.append(M_avg)\n",
    "\n",
    "    # Empirical thresholds (may vary across literature)\n",
    "    if M_avg <= -9:\n",
    "        return 'Ia-O'  \n",
    "    elif -9 < M_avg <= -7:\n",
    "        return 'Ia'\n",
    "    elif -7 < M_avg <= -5:\n",
    "        return 'Ib'\n",
    "    elif -5 < M_avg <= -2:\n",
    "        return 'II'\n",
    "    elif -2 < M_avg <= 2:\n",
    "        return 'III'\n",
    "    elif 2 < M_avg <= 4:\n",
    "        return 'IV'\n",
    "    elif 4 < M_avg <= 9:\n",
    "        return 'V'\n",
    "    elif 9 < M_avg <= 12:\n",
    "        return 'VI'\n",
    "    elif M_avg > 12:\n",
    "        return 'D'\n",
    "    else:\n",
    "        return None\n"
   ],
   "id": "e8f47f6fb3aa5c42",
   "outputs": [],
   "execution_count": 48
  },
  {
   "metadata": {},
   "cell_type": "markdown",
   "source": "# Fetch data",
   "id": "4b491c24c53e4299"
  },
  {
   "metadata": {
    "ExecuteTime": {
     "end_time": "2025-01-28T13:47:38.812663Z",
     "start_time": "2025-01-28T13:47:38.809167Z"
    }
   },
   "cell_type": "code",
   "source": [
    "from src.database.creation import DatabaseTables\n",
    "Star = DatabaseTables.Star"
   ],
   "id": "add0273f204e962",
   "outputs": [],
   "execution_count": 49
  },
  {
   "metadata": {
    "ExecuteTime": {
     "end_time": "2025-01-28T13:47:57.680851Z",
     "start_time": "2025-01-28T13:47:38.820858Z"
    }
   },
   "cell_type": "code",
   "source": [
    "query = session.query(Star).limit(1000000)\n",
    "results = query.all()"
   ],
   "id": "6919828654bfd82c",
   "outputs": [],
   "execution_count": 50
  },
  {
   "metadata": {
    "ExecuteTime": {
     "end_time": "2025-01-28T13:47:59.898633Z",
     "start_time": "2025-01-28T13:47:57.681867Z"
    }
   },
   "cell_type": "code",
   "source": [
    "data = []\n",
    "for star_obj in results:\n",
    "    row = {\n",
    "        'apogee_id': star_obj.apogee_id,\n",
    "        'teff': star_obj.teff,\n",
    "        'logg': star_obj.logg,\n",
    "        'j': star_obj.j,\n",
    "        'h': star_obj.h,\n",
    "        'k': star_obj.k,\n",
    "    }\n",
    "    data.append(row)\n",
    "\n",
    "df = pd.DataFrame(data)"
   ],
   "id": "410309dbf216bc0b",
   "outputs": [],
   "execution_count": 51
  },
  {
   "metadata": {
    "ExecuteTime": {
     "end_time": "2025-01-28T13:48:00.100848Z",
     "start_time": "2025-01-28T13:47:59.899639Z"
    }
   },
   "cell_type": "code",
   "source": [
    "# for each stars, remove the rows if the value of j h k or ,teff or logg is an outlier (0.01 quantile et 0.99 quantile)\n",
    "\n",
    "# remove rows where teff is an outlier\n",
    "\n",
    "df = df[(df['teff'] > df['teff'].quantile(0.01)) & (df['teff'] < df['teff'].quantile(0.99))]\n",
    "\n",
    "# remove rows where logg is an outlier\n",
    "\n",
    "df = df[(df['logg'] > df['logg'].quantile(0.01)) & (df['logg'] < df['logg'].quantile(0.99))]\n",
    "\n",
    "# remove rows where j is an outlier\n",
    "\n",
    "df = df[(df['j'] > df['j'].quantile(0.01)) & (df['j'] < df['j'].quantile(0.99))]\n",
    "\n",
    "# remove rows where h is an outlier\n",
    "\n",
    "df = df[(df['h'] > df['h'].quantile(0.01)) & (df['h'] < df['h'].quantile(0.99))]\n",
    "\n",
    "# remove rows where k is an outlier\n",
    "\n",
    "df = df[(df['k'] > df['k'].quantile(0.01)) & (df['k'] < df['k'].quantile(0.99))]\n",
    "\n"
   ],
   "id": "9dca5b4cc47d929d",
   "outputs": [],
   "execution_count": 52
  },
  {
   "metadata": {
    "ExecuteTime": {
     "end_time": "2025-01-28T13:51:47.793904Z",
     "start_time": "2025-01-28T13:48:00.101868Z"
    }
   },
   "cell_type": "code",
   "source": [
    "# load original data : \n",
    "hdulist = fits.open('../../data/allStarLite-dr17-synspec_rev1.fits')\n",
    "hdu1_data = hdulist[1].data\n",
    "df4 = pd.DataFrame(hdu1_data.tolist(), columns=hdu1_data.names)"
   ],
   "id": "cb4f99bdf9d31d94",
   "outputs": [],
   "execution_count": 53
  },
  {
   "metadata": {
    "ExecuteTime": {
     "end_time": "2025-01-28T13:52:06.281888Z",
     "start_time": "2025-01-28T13:51:47.817168Z"
    }
   },
   "cell_type": "code",
   "source": [
    "# Keep GAIAEDR3_PARALLAX and APOGEE_ID\n",
    "df4 = df4[['GAIAEDR3_PARALLAX', 'APOGEE_ID']]"
   ],
   "id": "6d0ab7f37429f209",
   "outputs": [],
   "execution_count": 54
  },
  {
   "metadata": {
    "ExecuteTime": {
     "end_time": "2025-01-28T13:52:06.956903Z",
     "start_time": "2025-01-28T13:52:06.283892Z"
    }
   },
   "cell_type": "code",
   "source": [
    "# Crossmatch and add parallax to df thanks to APOGEE_ID\n",
    "df = df.merge(df4, how='left', left_on='apogee_id', right_on='APOGEE_ID')\n",
    "df.drop(columns='APOGEE_ID', inplace=True)"
   ],
   "id": "260e32763ba11557",
   "outputs": [],
   "execution_count": 55
  },
  {
   "metadata": {
    "ExecuteTime": {
     "end_time": "2025-01-28T13:52:07.026026Z",
     "start_time": "2025-01-28T13:52:06.960412Z"
    }
   },
   "cell_type": "code",
   "source": [
    "# only keep rows with non missing values\n",
    "df = df.dropna()"
   ],
   "id": "3aaca9363c0d3416",
   "outputs": [],
   "execution_count": 56
  },
  {
   "metadata": {
    "ExecuteTime": {
     "end_time": "2025-01-28T13:52:07.176579Z",
     "start_time": "2025-01-28T13:52:07.028097Z"
    }
   },
   "cell_type": "code",
   "source": "df.describe()",
   "id": "80d348e88eec3fab",
   "outputs": [
    {
     "data": {
      "text/plain": [
       "                teff           logg              j              h  \\\n",
       "count  610482.000000  610482.000000  610482.000000  610482.000000   \n",
       "mean     4945.242804       3.115508      11.387098      10.794684   \n",
       "std       897.819705       1.167399       1.277701       1.201384   \n",
       "min      3361.576416       0.509063       7.912000       7.623000   \n",
       "25%      4466.093384       2.341344      10.522000       9.992000   \n",
       "50%      4809.743652       2.991159      11.419000      10.861000   \n",
       "75%      5203.640137       4.295587      12.320000      11.654000   \n",
       "max     11031.777344       4.678965      14.772000      13.643000   \n",
       "\n",
       "                   k  GAIAEDR3_PARALLAX  \n",
       "count  610482.000000      610482.000000  \n",
       "mean       10.634855           1.799251  \n",
       "std         1.195563           2.583580  \n",
       "min         7.711000         -10.957157  \n",
       "25%         9.835000           0.261356  \n",
       "50%        10.718000           0.766211  \n",
       "75%        11.472000           2.506263  \n",
       "max        13.245000          93.165512  "
      ],
      "text/html": [
       "<div>\n",
       "<style scoped>\n",
       "    .dataframe tbody tr th:only-of-type {\n",
       "        vertical-align: middle;\n",
       "    }\n",
       "\n",
       "    .dataframe tbody tr th {\n",
       "        vertical-align: top;\n",
       "    }\n",
       "\n",
       "    .dataframe thead th {\n",
       "        text-align: right;\n",
       "    }\n",
       "</style>\n",
       "<table border=\"1\" class=\"dataframe\">\n",
       "  <thead>\n",
       "    <tr style=\"text-align: right;\">\n",
       "      <th></th>\n",
       "      <th>teff</th>\n",
       "      <th>logg</th>\n",
       "      <th>j</th>\n",
       "      <th>h</th>\n",
       "      <th>k</th>\n",
       "      <th>GAIAEDR3_PARALLAX</th>\n",
       "    </tr>\n",
       "  </thead>\n",
       "  <tbody>\n",
       "    <tr>\n",
       "      <th>count</th>\n",
       "      <td>610482.000000</td>\n",
       "      <td>610482.000000</td>\n",
       "      <td>610482.000000</td>\n",
       "      <td>610482.000000</td>\n",
       "      <td>610482.000000</td>\n",
       "      <td>610482.000000</td>\n",
       "    </tr>\n",
       "    <tr>\n",
       "      <th>mean</th>\n",
       "      <td>4945.242804</td>\n",
       "      <td>3.115508</td>\n",
       "      <td>11.387098</td>\n",
       "      <td>10.794684</td>\n",
       "      <td>10.634855</td>\n",
       "      <td>1.799251</td>\n",
       "    </tr>\n",
       "    <tr>\n",
       "      <th>std</th>\n",
       "      <td>897.819705</td>\n",
       "      <td>1.167399</td>\n",
       "      <td>1.277701</td>\n",
       "      <td>1.201384</td>\n",
       "      <td>1.195563</td>\n",
       "      <td>2.583580</td>\n",
       "    </tr>\n",
       "    <tr>\n",
       "      <th>min</th>\n",
       "      <td>3361.576416</td>\n",
       "      <td>0.509063</td>\n",
       "      <td>7.912000</td>\n",
       "      <td>7.623000</td>\n",
       "      <td>7.711000</td>\n",
       "      <td>-10.957157</td>\n",
       "    </tr>\n",
       "    <tr>\n",
       "      <th>25%</th>\n",
       "      <td>4466.093384</td>\n",
       "      <td>2.341344</td>\n",
       "      <td>10.522000</td>\n",
       "      <td>9.992000</td>\n",
       "      <td>9.835000</td>\n",
       "      <td>0.261356</td>\n",
       "    </tr>\n",
       "    <tr>\n",
       "      <th>50%</th>\n",
       "      <td>4809.743652</td>\n",
       "      <td>2.991159</td>\n",
       "      <td>11.419000</td>\n",
       "      <td>10.861000</td>\n",
       "      <td>10.718000</td>\n",
       "      <td>0.766211</td>\n",
       "    </tr>\n",
       "    <tr>\n",
       "      <th>75%</th>\n",
       "      <td>5203.640137</td>\n",
       "      <td>4.295587</td>\n",
       "      <td>12.320000</td>\n",
       "      <td>11.654000</td>\n",
       "      <td>11.472000</td>\n",
       "      <td>2.506263</td>\n",
       "    </tr>\n",
       "    <tr>\n",
       "      <th>max</th>\n",
       "      <td>11031.777344</td>\n",
       "      <td>4.678965</td>\n",
       "      <td>14.772000</td>\n",
       "      <td>13.643000</td>\n",
       "      <td>13.245000</td>\n",
       "      <td>93.165512</td>\n",
       "    </tr>\n",
       "  </tbody>\n",
       "</table>\n",
       "</div>"
      ]
     },
     "execution_count": 57,
     "metadata": {},
     "output_type": "execute_result"
    }
   ],
   "execution_count": 57
  },
  {
   "metadata": {},
   "cell_type": "markdown",
   "source": "# Classification",
   "id": "12a038fb181e27e4"
  },
  {
   "metadata": {
    "ExecuteTime": {
     "end_time": "2025-01-28T13:52:07.674159Z",
     "start_time": "2025-01-28T13:52:07.177584Z"
    }
   },
   "cell_type": "code",
   "source": [
    "df['class_spectral'] = df['teff'].apply(classify_spectral)\n",
    "\n",
    "# descrine spectrla class\n",
    "df['class_spectral'].value_counts()\n"
   ],
   "id": "4c745652cb600ae1",
   "outputs": [
    {
     "data": {
      "text/plain": [
       "class_spectral\n",
       "K    440917\n",
       "G    100331\n",
       "F     40712\n",
       "M     16452\n",
       "A      9072\n",
       "B      2998\n",
       "Name: count, dtype: int64"
      ]
     },
     "execution_count": 58,
     "metadata": {},
     "output_type": "execute_result"
    }
   ],
   "execution_count": 58
  },
  {
   "metadata": {
    "ExecuteTime": {
     "end_time": "2025-01-28T13:52:08.133686Z",
     "start_time": "2025-01-28T13:52:07.681335Z"
    }
   },
   "cell_type": "code",
   "source": [
    "df['class_lum_logg'] = df['logg'].apply(classify_lum_logg)\n",
    "\n",
    "# describe lum logg class\n",
    "df['class_lum_logg'].value_counts()"
   ],
   "id": "a4037bbe95e879b7",
   "outputs": [
    {
     "data": {
      "text/plain": [
       "class_lum_logg\n",
       "V      257679\n",
       "III    245424\n",
       "IV      46637\n",
       "II      36370\n",
       "Ib      24372\n",
       "Name: count, dtype: int64"
      ]
     },
     "execution_count": 59,
     "metadata": {},
     "output_type": "execute_result"
    }
   ],
   "execution_count": 59
  },
  {
   "metadata": {
    "ExecuteTime": {
     "end_time": "2025-01-28T13:52:12.961737Z",
     "start_time": "2025-01-28T13:52:08.134693Z"
    }
   },
   "cell_type": "code",
   "source": [
    "df['class_lum_j'] = df.apply(\n",
    "    lambda x: classify_lum_j(x['GAIAEDR3_PARALLAX'], x['j']),\n",
    "    axis=1\n",
    ")\n",
    "\n",
    "# describe lum j class\n",
    "df['class_lum_j'].value_counts()"
   ],
   "id": "1e5edc0c74e1247b",
   "outputs": [
    {
     "data": {
      "text/plain": [
       "class_lum_j\n",
       "III     286202\n",
       "IV      117862\n",
       "V       104670\n",
       "II       74247\n",
       "Ib        7278\n",
       "Ia        2274\n",
       "Ia-O      1429\n",
       "VI          49\n",
       "Name: count, dtype: int64"
      ]
     },
     "execution_count": 60,
     "metadata": {},
     "output_type": "execute_result"
    }
   ],
   "execution_count": 60
  },
  {
   "metadata": {
    "ExecuteTime": {
     "end_time": "2025-01-28T13:52:17.223062Z",
     "start_time": "2025-01-28T13:52:12.962790Z"
    }
   },
   "cell_type": "code",
   "source": [
    "\n",
    "df['class_lum_h'] = df.apply(\n",
    "    lambda x: classify_lum_j(x['GAIAEDR3_PARALLAX'], x['h']),\n",
    "    axis=1\n",
    ")\n",
    "\n",
    "# describe lum j class\n",
    "df['class_lum_h'].value_counts()"
   ],
   "id": "98ff0640d39a7581",
   "outputs": [
    {
     "data": {
      "text/plain": [
       "class_lum_h\n",
       "III     270651\n",
       "IV      123846\n",
       "II       99788\n",
       "V        78499\n",
       "Ib       15191\n",
       "Ia        3721\n",
       "Ia-O      2277\n",
       "VI          38\n",
       "Name: count, dtype: int64"
      ]
     },
     "execution_count": 61,
     "metadata": {},
     "output_type": "execute_result"
    }
   ],
   "execution_count": 61
  },
  {
   "metadata": {
    "ExecuteTime": {
     "end_time": "2025-01-28T13:52:21.573689Z",
     "start_time": "2025-01-28T13:52:17.224111Z"
    }
   },
   "cell_type": "code",
   "source": [
    "\n",
    "df['class_lum_k'] = df.apply(\n",
    "    lambda x: classify_lum_j(x['GAIAEDR3_PARALLAX'], x['k']),\n",
    "    axis=1\n",
    ")\n",
    "\n",
    "# describe lum j class\n",
    "df['class_lum_k'].value_counts()"
   ],
   "id": "15aa5481c3ac958d",
   "outputs": [
    {
     "data": {
      "text/plain": [
       "class_lum_k\n",
       "III     263216\n",
       "IV      126248\n",
       "II      107274\n",
       "V        71377\n",
       "Ib       18773\n",
       "Ia        4487\n",
       "Ia-O      2614\n",
       "VI          22\n",
       "Name: count, dtype: int64"
      ]
     },
     "execution_count": 62,
     "metadata": {},
     "output_type": "execute_result"
    }
   ],
   "execution_count": 62
  },
  {
   "metadata": {
    "ExecuteTime": {
     "end_time": "2025-01-28T13:52:28.051370Z",
     "start_time": "2025-01-28T13:52:21.577046Z"
    }
   },
   "cell_type": "code",
   "source": [
    "df['class_lum_jhk'] = df.apply(\n",
    "    lambda x: classify_lum_jhk(x['GAIAEDR3_PARALLAX'], x['j'], x['h'], x['k']),\n",
    "    axis=1\n",
    ")\n",
    "\n",
    "# describe lum jhk class\n",
    "df['class_lum_jhk'].value_counts()"
   ],
   "id": "8f7206d520d3b51d",
   "outputs": [
    {
     "data": {
      "text/plain": [
       "class_lum_jhk\n",
       "III     222706\n",
       "II      213934\n",
       "Ib       92055\n",
       "Ia       36421\n",
       "IV       16557\n",
       "Ia-O     12019\n",
       "V          319\n",
       "Name: count, dtype: int64"
      ]
     },
     "execution_count": 63,
     "metadata": {},
     "output_type": "execute_result"
    }
   ],
   "execution_count": 63
  },
  {
   "metadata": {
    "ExecuteTime": {
     "end_time": "2025-01-28T13:52:28.057847Z",
     "start_time": "2025-01-28T13:52:28.052381Z"
    }
   },
   "cell_type": "code",
   "source": "import matplotlib.pyplot as plt",
   "id": "321d943fa907e4ae",
   "outputs": [],
   "execution_count": 64
  },
  {
   "metadata": {
    "ExecuteTime": {
     "end_time": "2025-01-28T13:52:28.373609Z",
     "start_time": "2025-01-28T13:52:28.058857Z"
    }
   },
   "cell_type": "code",
   "source": [
    "light_classes_vector = np.array(light_classes_vector)\n",
    "\n",
    "# show distribution of light classes\n",
    "plt.hist(light_classes_vector, bins=50)\n",
    "plt.xlabel('Average Absolute Magnitude (JHK)')\n",
    "plt.ylabel('Number of stars')\n",
    "plt.title('Distribution of Average Absolute Magnitude (JHK)')\n",
    "plt.show()\n"
   ],
   "id": "9156c046fa161ccb",
   "outputs": [
    {
     "data": {
      "text/plain": [
       "<Figure size 640x480 with 1 Axes>"
      ],
      "image/png": "[encoded data removed]"
     },
     "metadata": {},
     "output_type": "display_data"
    }
   ],
   "execution_count": 65
  },
  {
   "metadata": {
    "ExecuteTime": {
     "end_time": "2025-01-28T13:52:28.467645Z",
     "start_time": "2025-01-28T13:52:28.375617Z"
    }
   },
   "cell_type": "code",
   "source": [
    "# map light classes to numbers to be able to compare them\n",
    "\n",
    "lum_map = {\n",
    "    'Ia-O': 0,\n",
    "    'Ia': 1,\n",
    "    'Ib': 2,\n",
    "    'II': 3,\n",
    "    'III': 4,\n",
    "    'IV': 5,\n",
    "    'V': 6,\n",
    "    'VI': 7,\n",
    "    'D': 8\n",
    "}\n",
    "\n",
    "df['class_lum_logg_mapped'] = df['class_lum_logg'].map(lum_map)\n",
    "df['class_lum_j_mapped'] = df['class_lum_j'].map(lum_map)\n",
    "df['class_lum_h_mapped'] = df['class_lum_h'].map(lum_map)\n",
    "df['class_lum_k_mapped'] = df['class_lum_k'].map(lum_map)\n",
    "df['class_lum_jhk_mapped'] = df['class_lum_jhk'].map(lum_map)\n",
    "\n"
   ],
   "id": "1293637aacba6654",
   "outputs": [],
   "execution_count": 66
  },
  {
   "metadata": {
    "ExecuteTime": {
     "end_time": "2025-01-28T13:52:28.617502Z",
     "start_time": "2025-01-28T13:52:28.468651Z"
    }
   },
   "cell_type": "code",
   "source": [
    "# display number of missing values\n",
    "df.isnull().sum()"
   ],
   "id": "6325e76c3f8b1ca1",
   "outputs": [
    {
     "data": {
      "text/plain": [
       "apogee_id                    0\n",
       "teff                         0\n",
       "logg                         0\n",
       "j                            0\n",
       "h                            0\n",
       "k                            0\n",
       "GAIAEDR3_PARALLAX            0\n",
       "class_spectral               0\n",
       "class_lum_logg               0\n",
       "class_lum_j              16471\n",
       "class_lum_h              16471\n",
       "class_lum_k              16471\n",
       "class_lum_jhk            16471\n",
       "class_lum_logg_mapped        0\n",
       "class_lum_j_mapped       16471\n",
       "class_lum_h_mapped       16471\n",
       "class_lum_k_mapped       16471\n",
       "class_lum_jhk_mapped     16471\n",
       "dtype: int64"
      ]
     },
     "execution_count": 67,
     "metadata": {},
     "output_type": "execute_result"
    }
   ],
   "execution_count": 67
  },
  {
   "metadata": {
    "ExecuteTime": {
     "end_time": "2025-01-28T13:52:28.778869Z",
     "start_time": "2025-01-28T13:52:28.618831Z"
    }
   },
   "cell_type": "code",
   "source": [
    "# drop missing values\n",
    "df = df.dropna()"
   ],
   "id": "690386d823ca46a8",
   "outputs": [],
   "execution_count": 68
  },
  {
   "metadata": {
    "ExecuteTime": {
     "end_time": "2025-01-28T14:15:30.866118Z",
     "start_time": "2025-01-28T14:15:30.743102Z"
    }
   },
   "cell_type": "code",
   "source": [
    "import numpy as np\n",
    "import pandas as pd\n",
    "\n",
    "def define_class_luminosity_boundaries(df, col='log_g', n_bins=8):\n",
    "    \"\"\"\n",
    "    Determines the boundaries for classification by dividing the [min, max] range \n",
    "    of the `col` column into n_bins equal intervals.\n",
    "    \n",
    "    Parameters\n",
    "    ----------\n",
    "    df : DataFrame\n",
    "        Your dataset.\n",
    "    col : str\n",
    "        Name of the column containing the value to be divided (log_g, magnitude, etc.).\n",
    "    n_bins : int\n",
    "        Number of intervals (bins) to create.\n",
    "\n",
    "    Returns\n",
    "    -------\n",
    "    boundaries : ndarray\n",
    "        Array of boundaries with size n_bins+1.\n",
    "    \"\"\"\n",
    "    # Identify the minimum and maximum values of the column\n",
    "    min_val = df[col].min()\n",
    "    max_val = df[col].max()\n",
    "    \n",
    "    # np.linspace creates n_bins+1 evenly spaced points\n",
    "    boundaries = np.linspace(min_val, max_val, n_bins+1)\n",
    "    return boundaries\n",
    "\n",
    "def classify_luminosity(df, boundaries, col='log_g', new_col='class_lum'):\n",
    "    \"\"\"\n",
    "    Assigns a class index (0 to n_bins-1) to each row based on the `col` column\n",
    "    and the provided `boundaries`.\n",
    "\n",
    "    Parameters\n",
    "    ----------\n",
    "    df : DataFrame\n",
    "        Your dataset.\n",
    "    boundaries : ndarray\n",
    "        Boundaries (of size n_bins+1) generated by define_class_luminosity_boundaries.\n",
    "    col : str\n",
    "        Name of the column containing the value to be divided (log_g, magnitude, etc.).\n",
    "    new_col : str\n",
    "        Name of the new column where the class will be stored.\n",
    "\n",
    "    Returns\n",
    "    -------\n",
    "    df : DataFrame\n",
    "        Original DataFrame with an additional column (`new_col`).\n",
    "    \"\"\"\n",
    "    # Use pd.cut to assign a bin code for each row\n",
    "    df[new_col] = pd.cut(\n",
    "        df[col],\n",
    "        bins=boundaries,\n",
    "        labels=False,         # -> returns an integer 0..(n_bins-1)\n",
    "        include_lowest=True   # -> correctly includes the lower bound\n",
    "    )\n",
    "    return df\n",
    "\n",
    "# Define boundaries for the 'logg' column and classify data\n",
    "boundaries = define_class_luminosity_boundaries(df, col='logg', n_bins=8)\n",
    "\n",
    "df = classify_luminosity(df, boundaries, col='logg', new_col='class_lum_bins_logg')\n",
    "\n",
    "# Display the counts of each class\n",
    "display(df['class_lum_bins_logg'].value_counts())\n",
    "\n",
    "# DO THE SAME FOR JHK\n",
    "\n",
    "# Create a new column with the average of JHK values for each star\n",
    "df['avg_jhk'] = df[['j', 'h', 'k']].mean(axis=1)\n",
    "\n",
    "# Define boundaries for the 'avg_jhk' column and classify data\n",
    "boundaries = define_class_luminosity_boundaries(df, col='avg_jhk', n_bins=8)\n",
    "\n",
    "df = classify_luminosity(df, boundaries, col='avg_jhk', new_col='class_lum_bins_jhk')\n",
    "\n",
    "# Display the counts of each class\n",
    "display(df['class_lum_bins_jhk'].value_counts())\n"
   ],
   "id": "6e10af191de72e99",
   "outputs": [
    {
     "data": {
      "text/plain": [
       "class_lum_bins_logg\n",
       "7    183219\n",
       "3    129865\n",
       "4     66905\n",
       "6     65316\n",
       "2     50596\n",
       "5     43834\n",
       "1     35711\n",
       "0     18565\n",
       "Name: count, dtype: int64"
      ]
     },
     "metadata": {},
     "output_type": "display_data"
    },
    {
     "data": {
      "text/plain": [
       "class_lum_bins_jhk\n",
       "4    153805\n",
       "3    122297\n",
       "5     98064\n",
       "2     77760\n",
       "6     63355\n",
       "1     46997\n",
       "0     20231\n",
       "7     11502\n",
       "Name: count, dtype: int64"
      ]
     },
     "metadata": {},
     "output_type": "display_data"
    }
   ],
   "execution_count": 90
  },
  {
   "metadata": {
    "ExecuteTime": {
     "end_time": "2025-01-28T13:58:18.936307Z",
     "start_time": "2025-01-28T13:58:18.564518Z"
    }
   },
   "cell_type": "code",
   "source": [
    "import numpy as np\n",
    "import pandas as pd\n",
    "import seaborn as sns\n",
    "import matplotlib.pyplot as plt\n",
    "\n",
    "lum_classes = [\n",
    "    'class_lum_logg_mapped',\n",
    "    'class_lum_j_mapped',\n",
    "    'class_lum_h_mapped',\n",
    "    'class_lum_k_mapped',\n",
    "    'class_lum_jhk_mapped',\n",
    "    'class_lum_bins_logg',\n",
    "    'class_lum_bins_jhk'\n",
    "]\n",
    "\n",
    "\n",
    "print(df[lum_classes].isnull().sum())\n",
    "\n",
    "n_methods = len(lum_classes)\n",
    "distance_matrix = np.zeros((n_methods, n_methods))\n",
    "\n",
    "for i in range(n_methods):\n",
    "    for j in range(n_methods):\n",
    "        mean_dist = (df[lum_classes[i]] - df[lum_classes[j]]).abs().mean()\n",
    "        distance_matrix[i, j] = mean_dist\n",
    "\n",
    "dist_df = pd.DataFrame(\n",
    "    distance_matrix,\n",
    "    index=lum_classes,\n",
    "    columns=lum_classes\n",
    ")\n",
    "\n",
    "print(\"Matrice des distances moyennes entre méthodes :\")\n",
    "print(dist_df)\n",
    "\n",
    "# Heatmap pour visualiser\n",
    "plt.figure(figsize=(8,6))\n",
    "sns.heatmap(dist_df, annot=True, cmap='viridis')\n",
    "plt.title(\"Distance moyenne (Manhattan) entre méthodes de classification\")\n",
    "plt.show()\n"
   ],
   "id": "ac0ebeaf150355f0",
   "outputs": [
    {
     "name": "stdout",
     "output_type": "stream",
     "text": [
      "class_lum_logg_mapped    0\n",
      "class_lum_j_mapped       0\n",
      "class_lum_h_mapped       0\n",
      "class_lum_k_mapped       0\n",
      "class_lum_jhk_mapped     0\n",
      "class_lum_bins_logg      0\n",
      "class_lum_bins_jhk       0\n",
      "dtype: int64\n",
      "Matrice des distances moyennes entre méthodes :\n",
      "                       class_lum_logg_mapped  class_lum_j_mapped  \\\n",
      "class_lum_logg_mapped               0.000000            0.513093   \n",
      "class_lum_j_mapped                  0.513093            0.000000   \n",
      "class_lum_h_mapped                  0.642261            0.160776   \n",
      "class_lum_k_mapped                  0.684166            0.211587   \n",
      "class_lum_jhk_mapped                1.741518            1.286501   \n",
      "class_lum_bins_logg                 0.923821            1.212427   \n",
      "class_lum_bins_jhk                  1.816537            1.531103   \n",
      "\n",
      "                       class_lum_h_mapped  class_lum_k_mapped  \\\n",
      "class_lum_logg_mapped            0.642261            0.684166   \n",
      "class_lum_j_mapped               0.160776            0.211587   \n",
      "class_lum_h_mapped               0.000000            0.050922   \n",
      "class_lum_k_mapped               0.050922            0.000000   \n",
      "class_lum_jhk_mapped             1.125745            1.074928   \n",
      "class_lum_bins_logg              1.209237            1.202729   \n",
      "class_lum_bins_jhk               1.503401            1.501967   \n",
      "\n",
      "                       class_lum_jhk_mapped  class_lum_bins_logg  \\\n",
      "class_lum_logg_mapped              1.741518             0.923821   \n",
      "class_lum_j_mapped                 1.286501             1.212427   \n",
      "class_lum_h_mapped                 1.125745             1.209237   \n",
      "class_lum_k_mapped                 1.074928             1.202729   \n",
      "class_lum_jhk_mapped               0.000000             1.541431   \n",
      "class_lum_bins_logg                1.541431             0.000000   \n",
      "class_lum_bins_jhk                 1.448003             2.253344   \n",
      "\n",
      "                       class_lum_bins_jhk  \n",
      "class_lum_logg_mapped            1.816537  \n",
      "class_lum_j_mapped               1.531103  \n",
      "class_lum_h_mapped               1.503401  \n",
      "class_lum_k_mapped               1.501967  \n",
      "class_lum_jhk_mapped             1.448003  \n",
      "class_lum_bins_logg              2.253344  \n",
      "class_lum_bins_jhk               0.000000  \n"
     ]
    },
    {
     "data": {
      "text/plain": [
       "<Figure size 800x600 with 2 Axes>"
      ],
      "image/png": "[encoded data removed]"
     },
     "metadata": {},
     "output_type": "display_data"
    }
   ],
   "execution_count": 78
  },
  {
   "metadata": {
    "ExecuteTime": {
     "end_time": "2025-01-28T14:08:54.403386Z",
     "start_time": "2025-01-28T14:08:54.117048Z"
    }
   },
   "cell_type": "code",
   "source": [
    "df.describe()\n",
    "\n",
    "df.columns"
   ],
   "id": "c8772b9dd2e84a84",
   "outputs": [
    {
     "data": {
      "text/plain": [
       "Index(['apogee_id', 'teff', 'logg', 'j', 'h', 'k', 'GAIAEDR3_PARALLAX',\n",
       "       'class_spectral', 'class_lum_logg', 'class_lum_j', 'class_lum_h',\n",
       "       'class_lum_k', 'class_lum_jhk', 'class_lum_logg_mapped',\n",
       "       'class_lum_j_mapped', 'class_lum_h_mapped', 'class_lum_k_mapped',\n",
       "       'class_lum_jhk_mapped', 'class_lum_bins', 'avg_jhk',\n",
       "       'class_lum_bins_jhk', 'class_lum_bins_logg'],\n",
       "      dtype='object')"
      ]
     },
     "execution_count": 84,
     "metadata": {},
     "output_type": "execute_result"
    }
   ],
   "execution_count": 84
  },
  {
   "metadata": {
    "ExecuteTime": {
     "end_time": "2025-01-28T14:11:53.880793Z",
     "start_time": "2025-01-28T14:11:53.811051Z"
    }
   },
   "cell_type": "code",
   "source": [
    "df_classes = df[['apogee_id','class_spectral', 'class_lum_logg', 'class_lum_jhk', 'class_lum_bins_logg', 'class_lum_bins_jhk']]\n",
    "\n",
    "df_classes.describe()"
   ],
   "id": "25781b7e0a60ae6d",
   "outputs": [
    {
     "data": {
      "text/plain": [
       "       class_lum_bins_logg  class_lum_bins_jhk\n",
       "count        594011.000000       594011.000000\n",
       "mean              4.524692            3.595206\n",
       "std               2.148204            1.608923\n",
       "min               0.000000            0.000000\n",
       "25%               3.000000            3.000000\n",
       "50%               4.000000            4.000000\n",
       "75%               7.000000            5.000000\n",
       "max               7.000000            7.000000"
      ],
      "text/html": [
       "<div>\n",
       "<style scoped>\n",
       "    .dataframe tbody tr th:only-of-type {\n",
       "        vertical-align: middle;\n",
       "    }\n",
       "\n",
       "    .dataframe tbody tr th {\n",
       "        vertical-align: top;\n",
       "    }\n",
       "\n",
       "    .dataframe thead th {\n",
       "        text-align: right;\n",
       "    }\n",
       "</style>\n",
       "<table border=\"1\" class=\"dataframe\">\n",
       "  <thead>\n",
       "    <tr style=\"text-align: right;\">\n",
       "      <th></th>\n",
       "      <th>class_lum_bins_logg</th>\n",
       "      <th>class_lum_bins_jhk</th>\n",
       "    </tr>\n",
       "  </thead>\n",
       "  <tbody>\n",
       "    <tr>\n",
       "      <th>count</th>\n",
       "      <td>594011.000000</td>\n",
       "      <td>594011.000000</td>\n",
       "    </tr>\n",
       "    <tr>\n",
       "      <th>mean</th>\n",
       "      <td>4.524692</td>\n",
       "      <td>3.595206</td>\n",
       "    </tr>\n",
       "    <tr>\n",
       "      <th>std</th>\n",
       "      <td>2.148204</td>\n",
       "      <td>1.608923</td>\n",
       "    </tr>\n",
       "    <tr>\n",
       "      <th>min</th>\n",
       "      <td>0.000000</td>\n",
       "      <td>0.000000</td>\n",
       "    </tr>\n",
       "    <tr>\n",
       "      <th>25%</th>\n",
       "      <td>3.000000</td>\n",
       "      <td>3.000000</td>\n",
       "    </tr>\n",
       "    <tr>\n",
       "      <th>50%</th>\n",
       "      <td>4.000000</td>\n",
       "      <td>4.000000</td>\n",
       "    </tr>\n",
       "    <tr>\n",
       "      <th>75%</th>\n",
       "      <td>7.000000</td>\n",
       "      <td>5.000000</td>\n",
       "    </tr>\n",
       "    <tr>\n",
       "      <th>max</th>\n",
       "      <td>7.000000</td>\n",
       "      <td>7.000000</td>\n",
       "    </tr>\n",
       "  </tbody>\n",
       "</table>\n",
       "</div>"
      ]
     },
     "execution_count": 88,
     "metadata": {},
     "output_type": "execute_result"
    }
   ],
   "execution_count": 88
  },
  {
   "metadata": {
    "ExecuteTime": {
     "end_time": "2025-01-28T14:12:12.364408Z",
     "start_time": "2025-01-28T14:12:11.716181Z"
    }
   },
   "cell_type": "code",
   "source": [
    "# save classes to csv\n",
    "df_classes.to_csv('../../data/classes.csv', index=False)\n"
   ],
   "id": "ed27055d44049aab",
   "outputs": [],
   "execution_count": 89
  }
 ],
 "metadata": {
  "kernelspec": {
   "display_name": "Python 3",
   "language": "python",
   "name": "python3"
  },
  "language_info": {
   "codemirror_mode": {
    "name": "ipython",
    "version": 2
   },
   "file_extension": ".py",
   "mimetype": "text/x-python",
   "name": "python",
   "nbconvert_exporter": "python",
   "pygments_lexer": "ipython2",
   "version": "2.7.6"
  }
 },
 "nbformat": 4,
 "nbformat_minor": 5
}
