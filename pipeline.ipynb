{
 "cells": [
  {
   "cell_type": "code",
   "id": "initial_id",
   "metadata": {
    "collapsed": true,
    "ExecuteTime": {
     "end_time": "2024-11-28T16:27:32.310450Z",
     "start_time": "2024-11-28T16:27:31.124828Z"
    }
   },
   "source": [
    "import numpy as np\n",
    "import pandas as pd\n",
    "from astropy.io import fits\n"
   ],
   "outputs": [],
   "execution_count": 1
  },
  {
   "metadata": {
    "ExecuteTime": {
     "end_time": "2024-11-28T16:28:02.646795Z",
     "start_time": "2024-11-28T16:28:02.641595Z"
    }
   },
   "cell_type": "code",
   "source": "hdulist = fits.open('data/allStarLite-dr17-synspec_rev1.fits')\n",
   "id": "e434114ff0dd93d8",
   "outputs": [],
   "execution_count": 3
  },
  {
   "metadata": {
    "ExecuteTime": {
     "end_time": "2024-11-28T16:31:11.223702Z",
     "start_time": "2024-11-28T16:28:04.901515Z"
    }
   },
   "cell_type": "code",
   "source": [
    "hdu1_data = hdulist[1].data\n",
    "df_c = pd.DataFrame(hdu1_data.tolist(), columns=hdu1_data.names)"
   ],
   "id": "98175ccb594429e6",
   "outputs": [],
   "execution_count": 4
  },
  {
   "metadata": {
    "ExecuteTime": {
     "end_time": "2024-11-28T16:34:15.299299Z",
     "start_time": "2024-11-28T16:34:15.292333Z"
    }
   },
   "cell_type": "code",
   "source": [
    "# keep 10 rows TODO : REMOVE for the real pipeline\n",
    "df_c = df_c.head(10)"
   ],
   "id": "8c2927fa3e54624e",
   "outputs": [],
   "execution_count": 5
  },
  {
   "metadata": {
    "ExecuteTime": {
     "end_time": "2024-11-28T16:35:15.442989Z",
     "start_time": "2024-11-28T16:35:02.284220Z"
    }
   },
   "cell_type": "code",
   "source": [
    "# save the data to a csv file\n",
    "# df_c.to_csv('data/allStarLite-dr17-synspec_rev1.csv', index=False)\n"
   ],
   "id": "c45551dcdbab1799",
   "outputs": [],
   "execution_count": 12
  },
  {
   "metadata": {
    "ExecuteTime": {
     "end_time": "2024-11-24T22:58:24.103987Z",
     "start_time": "2024-11-24T22:58:24.099856Z"
    }
   },
   "cell_type": "code",
   "source": "df = df_c # used a src backup since df_c takes 5 minutes to load",
   "id": "8abbdee6afae40e6",
   "outputs": [],
   "execution_count": 32
  },
  {
   "metadata": {
    "ExecuteTime": {
     "end_time": "2024-11-24T22:58:25.870801Z",
     "start_time": "2024-11-24T22:58:25.852909Z"
    }
   },
   "cell_type": "code",
   "source": [
    "# drop 1st row (calibration)\n",
    "df = df.drop(0)\n",
    "\n",
    "# subset all chemical abundances (collumn name contain \"_FE\")\n",
    "chemical_subset = df.filter(regex='_FE', axis=1) \n",
    "\n",
    "# merge with + df.filter(regex='_H', axis=1)\n",
    "chemical_subset = pd.concat([chemical_subset, df.filter(regex='_H', axis=1)], axis=1)\n",
    "\n",
    "to_remove_from_chemicals = ['RV_FEH', 'MIN_H', 'MAX_H', 'GAIAEDR3_R_HI_GEO', 'GAIAEDR3_R_HI_PHOTOGEO','CU_FE_ERR',\n",
    "                            'P_FE_ERR','P_FE_FLAG',\n",
    "                            'CU_FE_FLAG',\n",
    "                            'M_H', 'M_H_ERR', 'X_H_SPEC', 'X_H', 'X_H_ERR']\n",
    "chemical_subset = chemical_subset.drop(to_remove_from_chemicals, axis=1)\n",
    "\n",
    "# create a df without the chemical abundances\n",
    "df = df.drop(chemical_subset.columns, axis=1)\n",
    "\n",
    "to_remove_from_main_dataset = ['P_FE_ERR',\n",
    "'P_FE_FLAG',\n",
    "'CU_FE_ERR', 'GAIAEDR3_PARALLAX_ERROR', 'GAIAEDR3_PMRA', 'GAIAEDR3_PMRA_ERROR',\n",
    "'GAIAEDR3_PMDEC', 'GAIAEDR3_PMDEC_ERROR', 'GAIAEDR3_PHOT_G_MEAN_MAG',\n",
    "'GAIAEDR3_PHOT_BP_MEAN_MAG', 'GAIAEDR3_PHOT_RP_MEAN_MAG',\n",
    "'GAIAEDR3_DR2_RADIAL_VELOCITY', 'GAIAEDR3_DR2_RADIAL_VELOCITY_ERROR',\n",
    "'GAIAEDR3_R_MED_GEO', 'GAIAEDR3_R_LO_GEO', 'GAIAEDR3_R_HI_GEO',\n",
    "'GAIAEDR3_R_MED_PHOTOGEO', 'GAIAEDR3_R_LO_PHOTOGEO',\n",
    "'GAIAEDR3_R_HI_PHOTOGEO','MEANFIB', 'SIGFIB','AK_TARG', 'AK_TARG_METHOD',\n",
    "'APOGEE_TARGET1', 'APOGEE_TARGET2', 'APOGEE2_TARGET1',\n",
    "'APOGEE2_TARGET2', 'APOGEE2_TARGET3', 'APOGEE2_TARGET4',\n",
    "'RV_CHI2','RV_CCFWHM', 'RV_AUTOFWHM','VSCATTER', 'VERR', 'RV_FEH', 'RV_FLAG', 'MIN_H', 'MAX_H',\n",
    "'MIN_JK', 'MAX_JK', 'GAIAEDR3_SOURCE_ID', 'GAIAEDR3_PARALLAX',\n",
    "'ASPCAP_GRID', 'ASPCAP_CHI2','FRAC_BADPIX','FRAC_LOWSNR', 'FRAC_SIGSKY',\n",
    "'ELEM_CHI2', 'ELEMFRAC', 'EXTRATARG', 'MEMBERFLAG', 'MEMBER','X_H_SPEC', 'X_M_SPEC',\n",
    "'FRAC_BADPIX','FRAC_LOWSNR', 'FRAC_SIGSKY','ELEM_CHI2', 'ELEMFRAC',\n",
    "'X_H_SPEC', 'X_M_SPEC','TEFF_SPEC', 'LOGG_SPEC','CU_FE_FLAG', 'ALT_ID', 'PROGRAMNAME', \n",
    "'RV_TEFF', 'RV_LOGG', 'RV_ALPHA', 'RV_CARB', 'SNREV', 'SFD_EBV', 'N_COMPONENTS']\n",
    "\n",
    "df = df.drop(to_remove_from_main_dataset, axis=1)\n",
    "\n",
    "\n",
    "chemical_subset = chemical_subset[chemical_subset.columns.drop(list(chemical_subset.filter(regex='_SPEC')))]\n",
    "\n",
    "# remove collumns with 100% NaN values\n",
    "chemical_subset = chemical_subset.dropna(axis=1, how='all')\n",
    "\n",
    "chemical_subset_err = chemical_subset.filter(regex='_ERR', axis=1) \n",
    "chemical_subset_flag = chemical_subset.filter(regex='_FLAG', axis=1) \n",
    "\n",
    "# remove _ERR and _FLAG from chemical_subset\n",
    "chemical_subset = chemical_subset.drop(chemical_subset_err.columns, axis=1)\n",
    "chemical_subset = chemical_subset.drop(chemical_subset_flag.columns, axis=1)\n",
    "\n",
    "\n",
    "# parse the list of all chemical elements in the dataset\n",
    "\n",
    "chemical_elements = [x.split('_')[0] for x in chemical_subset.columns]"
   ],
   "id": "2f0320547b1bcfd9",
   "outputs": [],
   "execution_count": 33
  },
  {
   "metadata": {
    "ExecuteTime": {
     "end_time": "2024-11-24T22:58:30.156651Z",
     "start_time": "2024-11-24T22:58:30.143291Z"
    }
   },
   "cell_type": "code",
   "source": [
    "display(df.columns)\n",
    "display(chemical_subset.columns)\n",
    "display(chemical_subset_err.columns)\n",
    "display(chemical_subset_flag.columns)\n",
    "display(chemical_elements)"
   ],
   "id": "c5e875257d173d5c",
   "outputs": [
    {
     "data": {
      "text/plain": [
       "Index(['APOGEE_ID', 'TELESCOPE', 'FIELD', 'RA', 'DEC', 'GLON', 'GLAT', 'J',\n",
       "       'J_ERR', 'H', 'H_ERR', 'K', 'K_ERR', 'AK_WISE', 'TARGFLAGS', 'SURVEY',\n",
       "       'NVISITS', 'SNR', 'STARFLAG', 'STARFLAGS', 'ANDFLAG', 'ANDFLAGS',\n",
       "       'VHELIO_AVG', 'PARAMFLAG', 'ASPCAPFLAG', 'ASPCAPFLAGS', 'X_H',\n",
       "       'X_H_ERR', 'X_M', 'X_M_ERR', 'TEFF', 'TEFF_ERR', 'LOGG', 'LOGG_ERR',\n",
       "       'M_H', 'M_H_ERR', 'ALPHA_M', 'ALPHA_M_ERR', 'VMICRO', 'VMACRO',\n",
       "       'VSINI'],\n",
       "      dtype='object')"
      ]
     },
     "metadata": {},
     "output_type": "display_data"
    },
    {
     "data": {
      "text/plain": [
       "Index(['C_FE', 'CI_FE', 'N_FE', 'O_FE', 'NA_FE', 'MG_FE', 'AL_FE', 'SI_FE',\n",
       "       'S_FE', 'K_FE', 'CA_FE', 'TI_FE', 'TIII_FE', 'V_FE', 'CR_FE', 'MN_FE',\n",
       "       'CO_FE', 'NI_FE', 'CE_FE', 'FE_H'],\n",
       "      dtype='object')"
      ]
     },
     "metadata": {},
     "output_type": "display_data"
    },
    {
     "data": {
      "text/plain": [
       "Index(['C_FE_ERR', 'CI_FE_ERR', 'N_FE_ERR', 'O_FE_ERR', 'NA_FE_ERR',\n",
       "       'MG_FE_ERR', 'AL_FE_ERR', 'SI_FE_ERR', 'S_FE_ERR', 'K_FE_ERR',\n",
       "       'CA_FE_ERR', 'TI_FE_ERR', 'TIII_FE_ERR', 'V_FE_ERR', 'CR_FE_ERR',\n",
       "       'MN_FE_ERR', 'CO_FE_ERR', 'NI_FE_ERR', 'CE_FE_ERR', 'FE_H_ERR'],\n",
       "      dtype='object')"
      ]
     },
     "metadata": {},
     "output_type": "display_data"
    },
    {
     "data": {
      "text/plain": [
       "Index(['C_FE_FLAG', 'CI_FE_FLAG', 'N_FE_FLAG', 'O_FE_FLAG', 'NA_FE_FLAG',\n",
       "       'MG_FE_FLAG', 'AL_FE_FLAG', 'SI_FE_FLAG', 'S_FE_FLAG', 'K_FE_FLAG',\n",
       "       'CA_FE_FLAG', 'TI_FE_FLAG', 'TIII_FE_FLAG', 'V_FE_FLAG', 'CR_FE_FLAG',\n",
       "       'MN_FE_FLAG', 'CO_FE_FLAG', 'NI_FE_FLAG', 'CE_FE_FLAG', 'FE_H_FLAG'],\n",
       "      dtype='object')"
      ]
     },
     "metadata": {},
     "output_type": "display_data"
    },
    {
     "data": {
      "text/plain": [
       "['C',\n",
       " 'CI',\n",
       " 'N',\n",
       " 'O',\n",
       " 'NA',\n",
       " 'MG',\n",
       " 'AL',\n",
       " 'SI',\n",
       " 'S',\n",
       " 'K',\n",
       " 'CA',\n",
       " 'TI',\n",
       " 'TIII',\n",
       " 'V',\n",
       " 'CR',\n",
       " 'MN',\n",
       " 'CO',\n",
       " 'NI',\n",
       " 'CE',\n",
       " 'FE']"
      ]
     },
     "metadata": {},
     "output_type": "display_data"
    }
   ],
   "execution_count": 34
  },
  {
   "metadata": {
    "ExecuteTime": {
     "end_time": "2024-11-24T23:06:24.255289Z",
     "start_time": "2024-11-24T23:06:24.024552Z"
    }
   },
   "cell_type": "code",
   "source": "",
   "id": "551de6fea3cd14f9",
   "outputs": [],
   "execution_count": 38
  },
  {
   "metadata": {
    "ExecuteTime": {
     "end_time": "2024-11-24T23:07:32.654925Z",
     "start_time": "2024-11-24T23:07:32.597876Z"
    }
   },
   "cell_type": "code",
   "source": [
    "engine = create_engine(DATABASE_URL)\n",
    "\n",
    "Base.metadata.create_all(engine)\n",
    "\n",
    "Session = sessionmaker(bind=engine)\n",
    "session = Session()"
   ],
   "id": "5bbb65aa44ccf208",
   "outputs": [],
   "execution_count": 39
  },
  {
   "metadata": {
    "ExecuteTime": {
     "end_time": "2024-11-24T23:10:58.685427Z",
     "start_time": "2024-11-24T23:10:58.672717Z"
    }
   },
   "cell_type": "code",
   "source": [
    "def insert_data_to_db(session, df, chemical_subset, chemical_subset_err, chemical_subset_flag, chemical_elements):\n",
    "    # Ajout des télescopes (Telescope)\n",
    "    for telescope_name in df['TELESCOPE'].unique():\n",
    "        if not session.query(Telescope).filter_by(telescope_name=telescope_name).first():\n",
    "            session.add(Telescope(telescope_name=telescope_name))\n",
    "\n",
    "    # Ajout des enquêtes (Survey)\n",
    "    for survey_name in df['SURVEY'].unique():\n",
    "        if not session.query(Survey).filter_by(survey_name=survey_name).first():\n",
    "            session.add(Survey(survey_name=survey_name))\n",
    "    session.commit()\n",
    "\n",
    "    # Ajout des coordonnées (Coordinates)\n",
    "    coordinates_map = {}\n",
    "    for _, row in df.iterrows():\n",
    "        coordinates = session.query(Coordinates).filter_by(\n",
    "            right_ascension=row['RA'], declination=row['DEC']\n",
    "        ).first()\n",
    "        if not coordinates:\n",
    "            coordinates = Coordinates(\n",
    "                right_ascension=row['RA'], declination=row['DEC'], field=row['FIELD']\n",
    "            )\n",
    "            session.add(coordinates)\n",
    "            session.commit()\n",
    "        coordinates_map[row['APOGEE_ID']] = coordinates.coordinates_id\n",
    "\n",
    "    # Ajout des données chimiques (Chemical)\n",
    "    chemical_map = {}\n",
    "    for chemical_name, fe_column in zip(chemical_elements, chemical_subset.columns):\n",
    "        chemical = session.query(Chemical).filter_by(name=chemical_name).first()\n",
    "        if not chemical:\n",
    "            chemical = Chemical(\n",
    "                name=chemical_name,\n",
    "                value=chemical_subset[fe_column].mean(),  # Exemple : moyenne comme valeur globale\n",
    "                error=chemical_subset_err[fe_column + '_ERR'].mean(),  # Exemple : moyenne des erreurs\n",
    "                flag=\";\".join(map(str, chemical_subset_flag[fe_column + '_FLAG'].unique())),\n",
    "                family=\"metal\" if \"FE\" in fe_column else \"non-metal\",\n",
    "            )\n",
    "            session.add(chemical)\n",
    "            session.commit()\n",
    "        chemical_map[chemical_name] = chemical.chemical_id\n",
    "\n",
    "    # Ajout des étoiles (Star)\n",
    "    for _, row in df.iterrows():\n",
    "        telescope = session.query(Telescope).filter_by(telescope_name=row['TELESCOPE']).first()\n",
    "        survey = session.query(Survey).filter_by(survey_name=row['SURVEY']).first()\n",
    "        coordinates_id = coordinates_map[row['APOGEE_ID']]\n",
    "        \n",
    "        star = session.query(Star).filter_by(apogee_id=row['APOGEE_ID']).first()\n",
    "        if not star:\n",
    "            star = Star(\n",
    "                apogee_id=row['APOGEE_ID'],\n",
    "                telescope_id=telescope.telescope_id,\n",
    "                survey_id=survey.survey_id,\n",
    "                coordinates_id=coordinates_id,\n",
    "                photometry_id=None,  # À définir si nécessaire\n",
    "                nb_observations=row['NVISITS'],\n",
    "                temperature_avg=row['TEFF'],\n",
    "                metallicity_avg=row['M_H'],\n",
    "                gravity_avg=row['LOGG'],\n",
    "                nb_error_flag=row['STARFLAG'],  # Exemple d'utilisation de STARFLAG\n",
    "                ak_wise=row['AK_WISE'],\n",
    "                vsini=row['VSINI'],\n",
    "                vhelio=row['VHELIO_AVG'],\n",
    "                vmicro=row['VMICRO'],\n",
    "                vmacro=row['VMACRO'],\n",
    "                alpha_m=row['ALPHA_M'],\n",
    "                alpha_m_err=row['ALPHA_M_ERR'],\n",
    "                snr=row['SNR'],\n",
    "                logg_err=row['LOGG_ERR'],\n",
    "                teff_err=row['TEFF_ERR'],\n",
    "                m_h_err=row['M_H_ERR'],\n",
    "            )\n",
    "            session.add(star)\n",
    "\n",
    "    session.commit()\n",
    "\n",
    "    print(\"Données insérées avec succès.\")\n"
   ],
   "id": "8ed111680dbc445e",
   "outputs": [],
   "execution_count": 47
  },
  {
   "metadata": {
    "ExecuteTime": {
     "end_time": "2024-11-24T23:10:41.276909Z",
     "start_time": "2024-11-24T23:10:41.269752Z"
    }
   },
   "cell_type": "code",
   "source": [
    "\n",
    "insert_data_to_db(session, df, chemical_subset, chemical_subset_err, chemical_subset_flag, chemical_elements)\n"
   ],
   "id": "5a339939e8cf472",
   "outputs": [
    {
     "name": "stdout",
     "output_type": "stream",
     "text": [
      "Erreur détectée : (psycopg2.errors.InFailedSqlTransaction) current transaction is aborted, commands ignored until end of transaction block\n",
      "\n",
      "[SQL: SELECT db_proj.telescope.telescope_id AS db_proj_telescope_telescope_id, db_proj.telescope.telescope_name AS db_proj_telescope_telescope_name \n",
      "FROM db_proj.telescope \n",
      "WHERE db_proj.telescope.telescope_name = %(telescope_name_1)s \n",
      " LIMIT %(param_1)s]\n",
      "[parameters: {'telescope_name_1': 'apo25m', 'param_1': 1}]\n",
      "(Background on this error at: https://sqlalche.me/e/20/2j85)\n"
     ]
    }
   ],
   "execution_count": 46
  },
  {
   "metadata": {
    "ExecuteTime": {
     "end_time": "2024-11-13T15:22:35.029229Z",
     "start_time": "2024-11-13T15:22:35.021389Z"
    }
   },
   "cell_type": "code",
   "source": "",
   "id": "316fafde44d695b6",
   "outputs": [],
   "execution_count": 80
  },
  {
   "metadata": {
    "ExecuteTime": {
     "end_time": "2024-11-13T15:22:35.328280Z",
     "start_time": "2024-11-13T15:22:35.320535Z"
    }
   },
   "cell_type": "code",
   "source": "",
   "id": "660d32c76d6a1914",
   "outputs": [],
   "execution_count": 80
  },
  {
   "metadata": {
    "ExecuteTime": {
     "end_time": "2024-11-16T14:40:14.566985Z",
     "start_time": "2024-11-16T14:40:14.553694Z"
    }
   },
   "cell_type": "code",
   "source": "",
   "id": "592c412c912bf98e",
   "outputs": [],
   "execution_count": 4
  },
  {
   "metadata": {
    "ExecuteTime": {
     "end_time": "2024-11-28T20:12:15.385061Z",
     "start_time": "2024-11-28T20:12:15.282799Z"
    }
   },
   "cell_type": "code",
   "source": [
    "import numpy as np\n",
    "import matplotlib.pyplot as plt\n",
    "from scipy.stats import norm\n",
    "\n",
    "data = [4.8, 4.9, 4.9, 5.3, 5.7, 5.8, 6.9, 7, 7.1, 7.2, 8, 8.2, 8.3, 8.5, 8.7, \n",
    "        8.8, 9.1, 9.1, 9.2, 9.6, 11.5, 11.6, 11.6, 11.8, 11.8, 11.8, 12.2, 12.6, 14.9, 8.86]\n",
    "\n",
    "# plot distribution des notes\n",
    "\n",
    "plt.hist(data, bins=10, density=True, alpha=0.6, color='g')\n",
    "plt.title('Distribution des notes')\n",
    "plt.xlabel('Notes')\n",
    "plt.ylabel('Probabilité')\n",
    "plt.show()\n"
   ],
   "id": "b26a73dc3fa86ec0",
   "outputs": [
    {
     "data": {
      "text/plain": [
       "<Figure size 640x480 with 1 Axes>"
      ],
      "image/png": "[encoded data removed]"
     },
     "metadata": {},
     "output_type": "display_data"
    }
   ],
   "execution_count": 15
  }
 ],
 "metadata": {
  "kernelspec": {
   "display_name": "Python 3",
   "language": "python",
   "name": "python3"
  },
  "language_info": {
   "codemirror_mode": {
    "name": "ipython",
    "version": 2
   },
   "file_extension": ".py",
   "mimetype": "text/x-python",
   "name": "python",
   "nbconvert_exporter": "python",
   "pygments_lexer": "ipython2",
   "version": "2.7.6"
  }
 },
 "nbformat": 4,
 "nbformat_minor": 5
}
