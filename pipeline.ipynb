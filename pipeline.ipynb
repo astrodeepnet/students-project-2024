{
 "cells": [
  {
   "cell_type": "code",
   "id": "initial_id",
   "metadata": {
    "collapsed": true,
    "ExecuteTime": {
     "end_time": "2024-11-13T14:44:20.088152Z",
     "start_time": "2024-11-13T14:44:19.715791Z"
    }
   },
   "source": [
    "import numpy as np\n",
    "import pandas as pd\n",
    "from astropy.io import fits\n"
   ],
   "outputs": [],
   "execution_count": 1
  },
  {
   "metadata": {
    "ExecuteTime": {
     "end_time": "2024-11-13T14:44:20.118601Z",
     "start_time": "2024-11-13T14:44:20.089315Z"
    }
   },
   "cell_type": "code",
   "source": "hdulist = fits.open('data/allStarLite-dr17-synspec_rev1.fits')\n",
   "id": "e434114ff0dd93d8",
   "outputs": [],
   "execution_count": 2
  },
  {
   "metadata": {
    "ExecuteTime": {
     "end_time": "2024-11-13T14:45:38.834741Z",
     "start_time": "2024-11-13T14:44:20.119600Z"
    }
   },
   "cell_type": "code",
   "source": [
    "hdu1_data = hdulist[1].data\n",
    "df_c = pd.DataFrame(hdu1_data.tolist(), columns=hdu1_data.names)"
   ],
   "id": "98175ccb594429e6",
   "outputs": [],
   "execution_count": 3
  },
  {
   "metadata": {},
   "cell_type": "code",
   "outputs": [],
   "execution_count": null,
   "source": "",
   "id": "8c2927fa3e54624e"
  },
  {
   "metadata": {
    "ExecuteTime": {
     "end_time": "2024-11-13T15:22:27.370257Z",
     "start_time": "2024-11-13T15:22:27.219224Z"
    }
   },
   "cell_type": "code",
   "source": "df = df_c # used a s backup since df_c takes 5 minutes to load",
   "id": "8abbdee6afae40e6",
   "outputs": [],
   "execution_count": 77
  },
  {
   "metadata": {
    "ExecuteTime": {
     "end_time": "2024-11-13T15:22:29.613403Z",
     "start_time": "2024-11-13T15:22:27.884507Z"
    }
   },
   "cell_type": "code",
   "source": [
    "# drop 1st row (calibration)\n",
    "df = df.drop(0)\n",
    "\n",
    "# subset all chemical abundances (collumn name contain \"_FE\")\n",
    "chemical_subset = df.filter(regex='_FE', axis=1) \n",
    "\n",
    "# merge with + df.filter(regex='_H', axis=1)\n",
    "chemical_subset = pd.concat([chemical_subset, df.filter(regex='_H', axis=1)], axis=1)\n",
    "\n",
    "to_remove_from_chemicals = ['RV_FEH', 'MIN_H', 'MAX_H', 'GAIAEDR3_R_HI_GEO', 'GAIAEDR3_R_HI_PHOTOGEO','CU_FE_ERR',\n",
    "                            'P_FE_ERR','P_FE_FLAG',\n",
    "                            'CU_FE_FLAG',\n",
    "                            'M_H', 'M_H_ERR', 'X_H_SPEC', 'X_H', 'X_H_ERR']\n",
    "chemical_subset = chemical_subset.drop(to_remove_from_chemicals, axis=1)\n",
    "\n",
    "# create a df without the chemical abundances\n",
    "df = df.drop(chemical_subset.columns, axis=1)\n",
    "\n",
    "to_remove_from_main_dataset = ['P_FE_ERR',\n",
    "'P_FE_FLAG',\n",
    "'CU_FE_ERR',\n",
    "'CU_FE_FLAG', ' ALT_ID', 'PROGRAMNAME', 'RV_TEFF', 'RV_LOGG', 'RV_ALPHA', 'RV_CARB', 'SNREV', 'SFD_EBV', 'RV_CCFWHM'\n",
    "'RV_AUTOFWHM','N_COMPONENETS']\n",
    "\n",
    "df = df.drop(to_remove_from_main_dataset, axis=1)\n",
    "\n",
    "\n",
    "chemical_subset = chemical_subset[chemical_subset.columns.drop(list(chemical_subset.filter(regex='_SPEC')))]\n",
    "\n",
    "# remove collumns with 100% NaN values\n",
    "chemical_subset = chemical_subset.dropna(axis=1, how='all')\n",
    "\n",
    "chemical_subset_err = chemical_subset.filter(regex='_ERR', axis=1) \n",
    "chemical_subset_flag = chemical_subset.filter(regex='_FLAG', axis=1) \n",
    "\n",
    "# remove _ERR and _FLAG from chemical_subset\n",
    "chemical_subset = chemical_subset.drop(chemical_subset_err.columns, axis=1)\n",
    "chemical_subset = chemical_subset.drop(chemical_subset_flag.columns, axis=1)\n",
    "\n",
    "\n",
    "# parse the list of all chemical elements in the dataset\n",
    "\n",
    "chemical_elements = [x.split('_')[0] for x in chemical_subset.columns]"
   ],
   "id": "2f0320547b1bcfd9",
   "outputs": [],
   "execution_count": 78
  },
  {
   "metadata": {
    "ExecuteTime": {
     "end_time": "2024-11-13T15:22:30.779477Z",
     "start_time": "2024-11-13T15:22:30.766630Z"
    }
   },
   "cell_type": "code",
   "source": [
    "display(chemical_subset.columns)\n",
    "display(chemical_subset_err.columns)\n",
    "display(chemical_subset_flag.columns)"
   ],
   "id": "c5e875257d173d5c",
   "outputs": [
    {
     "data": {
      "text/plain": [
       "Index(['C_FE', 'CI_FE', 'N_FE', 'O_FE', 'NA_FE', 'MG_FE', 'AL_FE', 'SI_FE',\n",
       "       'S_FE', 'K_FE', 'CA_FE', 'TI_FE', 'TIII_FE', 'V_FE', 'CR_FE', 'MN_FE',\n",
       "       'CO_FE', 'NI_FE', 'CE_FE', 'FE_H'],\n",
       "      dtype='object')"
      ]
     },
     "metadata": {},
     "output_type": "display_data"
    },
    {
     "data": {
      "text/plain": [
       "Index(['C_FE_ERR', 'CI_FE_ERR', 'N_FE_ERR', 'O_FE_ERR', 'NA_FE_ERR',\n",
       "       'MG_FE_ERR', 'AL_FE_ERR', 'SI_FE_ERR', 'S_FE_ERR', 'K_FE_ERR',\n",
       "       'CA_FE_ERR', 'TI_FE_ERR', 'TIII_FE_ERR', 'V_FE_ERR', 'CR_FE_ERR',\n",
       "       'MN_FE_ERR', 'CO_FE_ERR', 'NI_FE_ERR', 'CE_FE_ERR', 'FE_H_ERR'],\n",
       "      dtype='object')"
      ]
     },
     "metadata": {},
     "output_type": "display_data"
    },
    {
     "data": {
      "text/plain": [
       "Index(['C_FE_FLAG', 'CI_FE_FLAG', 'N_FE_FLAG', 'O_FE_FLAG', 'NA_FE_FLAG',\n",
       "       'MG_FE_FLAG', 'AL_FE_FLAG', 'SI_FE_FLAG', 'S_FE_FLAG', 'K_FE_FLAG',\n",
       "       'CA_FE_FLAG', 'TI_FE_FLAG', 'TIII_FE_FLAG', 'V_FE_FLAG', 'CR_FE_FLAG',\n",
       "       'MN_FE_FLAG', 'CO_FE_FLAG', 'NI_FE_FLAG', 'CE_FE_FLAG', 'FE_H_FLAG'],\n",
       "      dtype='object')"
      ]
     },
     "metadata": {},
     "output_type": "display_data"
    }
   ],
   "execution_count": 79
  },
  {
   "metadata": {
    "ExecuteTime": {
     "end_time": "2024-11-13T15:22:31.279544Z",
     "start_time": "2024-11-13T15:22:31.267467Z"
    }
   },
   "cell_type": "code",
   "source": "",
   "id": "551de6fea3cd14f9",
   "outputs": [
    {
     "name": "stdout",
     "output_type": "stream",
     "text": [
      "APOGEE_ID\n",
      "TELESCOPE\n",
      "FIELD\n",
      "ALT_ID\n",
      "RA\n",
      "DEC\n",
      "GLON\n",
      "GLAT\n",
      "J\n",
      "J_ERR\n",
      "H\n",
      "H_ERR\n",
      "K\n",
      "K_ERR\n",
      "AK_TARG\n",
      "AK_TARG_METHOD\n",
      "AK_WISE\n",
      "SFD_EBV\n",
      "APOGEE_TARGET1\n",
      "APOGEE_TARGET2\n",
      "APOGEE2_TARGET1\n",
      "APOGEE2_TARGET2\n",
      "APOGEE2_TARGET3\n",
      "APOGEE2_TARGET4\n",
      "TARGFLAGS\n",
      "SURVEY\n",
      "PROGRAMNAME\n",
      "NVISITS\n",
      "SNR\n",
      "SNREV\n",
      "STARFLAG\n",
      "STARFLAGS\n",
      "ANDFLAG\n",
      "ANDFLAGS\n",
      "VHELIO_AVG\n",
      "VSCATTER\n",
      "VERR\n",
      "RV_TEFF\n",
      "RV_LOGG\n",
      "RV_FEH\n",
      "RV_ALPHA\n",
      "RV_CARB\n",
      "RV_CHI2\n",
      "RV_CCFWHM\n",
      "RV_AUTOFWHM\n",
      "RV_FLAG\n",
      "N_COMPONENTS\n",
      "MEANFIB\n",
      "SIGFIB\n",
      "MIN_H\n",
      "MAX_H\n",
      "MIN_JK\n",
      "MAX_JK\n",
      "GAIAEDR3_SOURCE_ID\n",
      "GAIAEDR3_PARALLAX\n",
      "GAIAEDR3_PARALLAX_ERROR\n",
      "GAIAEDR3_PMRA\n",
      "GAIAEDR3_PMRA_ERROR\n",
      "GAIAEDR3_PMDEC\n",
      "GAIAEDR3_PMDEC_ERROR\n",
      "GAIAEDR3_PHOT_G_MEAN_MAG\n",
      "GAIAEDR3_PHOT_BP_MEAN_MAG\n",
      "GAIAEDR3_PHOT_RP_MEAN_MAG\n",
      "GAIAEDR3_DR2_RADIAL_VELOCITY\n",
      "GAIAEDR3_DR2_RADIAL_VELOCITY_ERROR\n",
      "GAIAEDR3_R_MED_GEO\n",
      "GAIAEDR3_R_LO_GEO\n",
      "GAIAEDR3_R_HI_GEO\n",
      "GAIAEDR3_R_MED_PHOTOGEO\n",
      "GAIAEDR3_R_LO_PHOTOGEO\n",
      "GAIAEDR3_R_HI_PHOTOGEO\n",
      "ASPCAP_GRID\n",
      "ASPCAP_CHI2\n",
      "PARAMFLAG\n",
      "ASPCAPFLAG\n",
      "ASPCAPFLAGS\n",
      "FRAC_BADPIX\n",
      "FRAC_LOWSNR\n",
      "FRAC_SIGSKY\n",
      "X_H\n",
      "X_H_ERR\n",
      "X_M\n",
      "X_M_ERR\n",
      "ELEM_CHI2\n",
      "ELEMFRAC\n",
      "EXTRATARG\n",
      "MEMBERFLAG\n",
      "MEMBER\n",
      "X_H_SPEC\n",
      "X_M_SPEC\n",
      "TEFF\n",
      "TEFF_ERR\n",
      "LOGG\n",
      "LOGG_ERR\n",
      "M_H\n",
      "M_H_ERR\n",
      "ALPHA_M\n",
      "ALPHA_M_ERR\n",
      "VMICRO\n",
      "VMACRO\n",
      "VSINI\n",
      "TEFF_SPEC\n",
      "LOGG_SPEC\n"
     ]
    }
   ],
   "execution_count": 80
  },
  {
   "metadata": {
    "ExecuteTime": {
     "end_time": "2024-11-13T15:56:14.958398Z",
     "start_time": "2024-11-13T15:56:11.596697Z"
    }
   },
   "cell_type": "code",
   "source": "",
   "id": "8ed111680dbc445e",
   "outputs": [
    {
     "data": {
      "text/plain": [
       "                  RA            DEC           GLON           GLAT  \\\n",
       "count  733900.000000  733900.000000  733900.000000  733900.000000   \n",
       "mean      179.031201       6.688964     161.564255       7.680057   \n",
       "std        96.801018      39.649117     101.804347      35.064973   \n",
       "min         0.000103     -87.224808       0.000088     -89.909116   \n",
       "25%        93.116921     -22.628102      74.885553     -15.130762   \n",
       "50%       181.898395      11.996523     160.183732       3.276530   \n",
       "75%       265.892360      39.576674     241.210523      32.805638   \n",
       "max       359.999181      87.608246     359.999832      89.931476   \n",
       "\n",
       "                   J          J_ERR              H          H_ERR  \\\n",
       "count  723595.000000  722679.000000  733885.000000  722005.000000   \n",
       "mean       11.542884       0.024710      10.840211       0.026333   \n",
       "std         3.871652       0.029999       1.858345       0.042978   \n",
       "min         5.180000       0.000000       0.358000       0.000000   \n",
       "25%        10.446000       0.022000       9.925000       0.022000   \n",
       "50%        11.445000       0.023000      10.889000       0.024000   \n",
       "75%        12.440000       0.026000      11.796000       0.028000   \n",
       "max        99.999001       9.998000      99.999001       9.999000   \n",
       "\n",
       "                   K          K_ERR  ...       LOGG_ERR            M_H  \\\n",
       "count  723588.000000  721511.000000  ...  689023.000000  647024.000000   \n",
       "mean       10.759043       0.023649  ...       0.034049      -0.232709   \n",
       "std         3.868055       0.076668  ...       0.044472       0.381630   \n",
       "min         4.382000       0.000000  ...       0.010315      -2.468600   \n",
       "25%         9.746000       0.019000  ...       0.023135      -0.401310   \n",
       "50%        10.712000       0.021000  ...       0.027429      -0.173630   \n",
       "75%        11.555000       0.024000  ...       0.034414       0.013517   \n",
       "max        99.999001       9.998000  ...       6.477190       0.968570   \n",
       "\n",
       "             M_H_ERR        ALPHA_M    ALPHA_M_ERR         VMICRO  \\\n",
       "count  647024.000000  646590.000000  646590.000000  689023.000000   \n",
       "mean        0.010982       0.071228       0.029290       1.152249   \n",
       "std         0.028008       0.104415       0.107010       0.665692   \n",
       "min         0.003098      -0.714365       0.001972       0.299999   \n",
       "25%         0.006633       0.004136       0.006117       0.545865   \n",
       "50%         0.008306       0.041616       0.008338       1.187386   \n",
       "75%         0.010687       0.108675       0.013209       1.510463   \n",
       "max         4.833942       0.995405      19.249155       4.799986   \n",
       "\n",
       "              VMACRO          VSINI      TEFF_SPEC      LOGG_SPEC  \n",
       "count  689023.000000  316811.000000  689023.000000  689023.000000  \n",
       "mean        1.986810      10.734438    4948.364442       3.065821  \n",
       "std         2.040843      20.747317    1402.585761       1.161138  \n",
       "min         0.000000       1.499996    3012.500000      -0.437240  \n",
       "25%         0.000000       1.549173    4260.100098       2.351700  \n",
       "50%         2.593472       3.137979    4710.899902       3.052900  \n",
       "75%         3.498560       7.348945    5195.799805       4.219300  \n",
       "max        12.765858      96.006363   19937.000000       5.437300  \n",
       "\n",
       "[8 rows x 81 columns]"
      ],
      "text/html": [
       "<div>\n",
       "<style scoped>\n",
       "    .dataframe tbody tr th:only-of-type {\n",
       "        vertical-align: middle;\n",
       "    }\n",
       "\n",
       "    .dataframe tbody tr th {\n",
       "        vertical-align: top;\n",
       "    }\n",
       "\n",
       "    .dataframe thead th {\n",
       "        text-align: right;\n",
       "    }\n",
       "</style>\n",
       "<table border=\"1\" class=\"dataframe\">\n",
       "  <thead>\n",
       "    <tr style=\"text-align: right;\">\n",
       "      <th></th>\n",
       "      <th>RA</th>\n",
       "      <th>DEC</th>\n",
       "      <th>GLON</th>\n",
       "      <th>GLAT</th>\n",
       "      <th>J</th>\n",
       "      <th>J_ERR</th>\n",
       "      <th>H</th>\n",
       "      <th>H_ERR</th>\n",
       "      <th>K</th>\n",
       "      <th>K_ERR</th>\n",
       "      <th>...</th>\n",
       "      <th>LOGG_ERR</th>\n",
       "      <th>M_H</th>\n",
       "      <th>M_H_ERR</th>\n",
       "      <th>ALPHA_M</th>\n",
       "      <th>ALPHA_M_ERR</th>\n",
       "      <th>VMICRO</th>\n",
       "      <th>VMACRO</th>\n",
       "      <th>VSINI</th>\n",
       "      <th>TEFF_SPEC</th>\n",
       "      <th>LOGG_SPEC</th>\n",
       "    </tr>\n",
       "  </thead>\n",
       "  <tbody>\n",
       "    <tr>\n",
       "      <th>count</th>\n",
       "      <td>733900.000000</td>\n",
       "      <td>733900.000000</td>\n",
       "      <td>733900.000000</td>\n",
       "      <td>733900.000000</td>\n",
       "      <td>723595.000000</td>\n",
       "      <td>722679.000000</td>\n",
       "      <td>733885.000000</td>\n",
       "      <td>722005.000000</td>\n",
       "      <td>723588.000000</td>\n",
       "      <td>721511.000000</td>\n",
       "      <td>...</td>\n",
       "      <td>689023.000000</td>\n",
       "      <td>647024.000000</td>\n",
       "      <td>647024.000000</td>\n",
       "      <td>646590.000000</td>\n",
       "      <td>646590.000000</td>\n",
       "      <td>689023.000000</td>\n",
       "      <td>689023.000000</td>\n",
       "      <td>316811.000000</td>\n",
       "      <td>689023.000000</td>\n",
       "      <td>689023.000000</td>\n",
       "    </tr>\n",
       "    <tr>\n",
       "      <th>mean</th>\n",
       "      <td>179.031201</td>\n",
       "      <td>6.688964</td>\n",
       "      <td>161.564255</td>\n",
       "      <td>7.680057</td>\n",
       "      <td>11.542884</td>\n",
       "      <td>0.024710</td>\n",
       "      <td>10.840211</td>\n",
       "      <td>0.026333</td>\n",
       "      <td>10.759043</td>\n",
       "      <td>0.023649</td>\n",
       "      <td>...</td>\n",
       "      <td>0.034049</td>\n",
       "      <td>-0.232709</td>\n",
       "      <td>0.010982</td>\n",
       "      <td>0.071228</td>\n",
       "      <td>0.029290</td>\n",
       "      <td>1.152249</td>\n",
       "      <td>1.986810</td>\n",
       "      <td>10.734438</td>\n",
       "      <td>4948.364442</td>\n",
       "      <td>3.065821</td>\n",
       "    </tr>\n",
       "    <tr>\n",
       "      <th>std</th>\n",
       "      <td>96.801018</td>\n",
       "      <td>39.649117</td>\n",
       "      <td>101.804347</td>\n",
       "      <td>35.064973</td>\n",
       "      <td>3.871652</td>\n",
       "      <td>0.029999</td>\n",
       "      <td>1.858345</td>\n",
       "      <td>0.042978</td>\n",
       "      <td>3.868055</td>\n",
       "      <td>0.076668</td>\n",
       "      <td>...</td>\n",
       "      <td>0.044472</td>\n",
       "      <td>0.381630</td>\n",
       "      <td>0.028008</td>\n",
       "      <td>0.104415</td>\n",
       "      <td>0.107010</td>\n",
       "      <td>0.665692</td>\n",
       "      <td>2.040843</td>\n",
       "      <td>20.747317</td>\n",
       "      <td>1402.585761</td>\n",
       "      <td>1.161138</td>\n",
       "    </tr>\n",
       "    <tr>\n",
       "      <th>min</th>\n",
       "      <td>0.000103</td>\n",
       "      <td>-87.224808</td>\n",
       "      <td>0.000088</td>\n",
       "      <td>-89.909116</td>\n",
       "      <td>5.180000</td>\n",
       "      <td>0.000000</td>\n",
       "      <td>0.358000</td>\n",
       "      <td>0.000000</td>\n",
       "      <td>4.382000</td>\n",
       "      <td>0.000000</td>\n",
       "      <td>...</td>\n",
       "      <td>0.010315</td>\n",
       "      <td>-2.468600</td>\n",
       "      <td>0.003098</td>\n",
       "      <td>-0.714365</td>\n",
       "      <td>0.001972</td>\n",
       "      <td>0.299999</td>\n",
       "      <td>0.000000</td>\n",
       "      <td>1.499996</td>\n",
       "      <td>3012.500000</td>\n",
       "      <td>-0.437240</td>\n",
       "    </tr>\n",
       "    <tr>\n",
       "      <th>25%</th>\n",
       "      <td>93.116921</td>\n",
       "      <td>-22.628102</td>\n",
       "      <td>74.885553</td>\n",
       "      <td>-15.130762</td>\n",
       "      <td>10.446000</td>\n",
       "      <td>0.022000</td>\n",
       "      <td>9.925000</td>\n",
       "      <td>0.022000</td>\n",
       "      <td>9.746000</td>\n",
       "      <td>0.019000</td>\n",
       "      <td>...</td>\n",
       "      <td>0.023135</td>\n",
       "      <td>-0.401310</td>\n",
       "      <td>0.006633</td>\n",
       "      <td>0.004136</td>\n",
       "      <td>0.006117</td>\n",
       "      <td>0.545865</td>\n",
       "      <td>0.000000</td>\n",
       "      <td>1.549173</td>\n",
       "      <td>4260.100098</td>\n",
       "      <td>2.351700</td>\n",
       "    </tr>\n",
       "    <tr>\n",
       "      <th>50%</th>\n",
       "      <td>181.898395</td>\n",
       "      <td>11.996523</td>\n",
       "      <td>160.183732</td>\n",
       "      <td>3.276530</td>\n",
       "      <td>11.445000</td>\n",
       "      <td>0.023000</td>\n",
       "      <td>10.889000</td>\n",
       "      <td>0.024000</td>\n",
       "      <td>10.712000</td>\n",
       "      <td>0.021000</td>\n",
       "      <td>...</td>\n",
       "      <td>0.027429</td>\n",
       "      <td>-0.173630</td>\n",
       "      <td>0.008306</td>\n",
       "      <td>0.041616</td>\n",
       "      <td>0.008338</td>\n",
       "      <td>1.187386</td>\n",
       "      <td>2.593472</td>\n",
       "      <td>3.137979</td>\n",
       "      <td>4710.899902</td>\n",
       "      <td>3.052900</td>\n",
       "    </tr>\n",
       "    <tr>\n",
       "      <th>75%</th>\n",
       "      <td>265.892360</td>\n",
       "      <td>39.576674</td>\n",
       "      <td>241.210523</td>\n",
       "      <td>32.805638</td>\n",
       "      <td>12.440000</td>\n",
       "      <td>0.026000</td>\n",
       "      <td>11.796000</td>\n",
       "      <td>0.028000</td>\n",
       "      <td>11.555000</td>\n",
       "      <td>0.024000</td>\n",
       "      <td>...</td>\n",
       "      <td>0.034414</td>\n",
       "      <td>0.013517</td>\n",
       "      <td>0.010687</td>\n",
       "      <td>0.108675</td>\n",
       "      <td>0.013209</td>\n",
       "      <td>1.510463</td>\n",
       "      <td>3.498560</td>\n",
       "      <td>7.348945</td>\n",
       "      <td>5195.799805</td>\n",
       "      <td>4.219300</td>\n",
       "    </tr>\n",
       "    <tr>\n",
       "      <th>max</th>\n",
       "      <td>359.999181</td>\n",
       "      <td>87.608246</td>\n",
       "      <td>359.999832</td>\n",
       "      <td>89.931476</td>\n",
       "      <td>99.999001</td>\n",
       "      <td>9.998000</td>\n",
       "      <td>99.999001</td>\n",
       "      <td>9.999000</td>\n",
       "      <td>99.999001</td>\n",
       "      <td>9.998000</td>\n",
       "      <td>...</td>\n",
       "      <td>6.477190</td>\n",
       "      <td>0.968570</td>\n",
       "      <td>4.833942</td>\n",
       "      <td>0.995405</td>\n",
       "      <td>19.249155</td>\n",
       "      <td>4.799986</td>\n",
       "      <td>12.765858</td>\n",
       "      <td>96.006363</td>\n",
       "      <td>19937.000000</td>\n",
       "      <td>5.437300</td>\n",
       "    </tr>\n",
       "  </tbody>\n",
       "</table>\n",
       "<p>8 rows × 81 columns</p>\n",
       "</div>"
      ]
     },
     "execution_count": 83,
     "metadata": {},
     "output_type": "execute_result"
    }
   ],
   "execution_count": 83
  },
  {
   "metadata": {
    "ExecuteTime": {
     "end_time": "2024-11-13T15:22:35.015200Z",
     "start_time": "2024-11-13T15:22:35.008136Z"
    }
   },
   "cell_type": "code",
   "source": "",
   "id": "5a339939e8cf472",
   "outputs": [],
   "execution_count": 80
  },
  {
   "metadata": {
    "ExecuteTime": {
     "end_time": "2024-11-13T15:22:35.029229Z",
     "start_time": "2024-11-13T15:22:35.021389Z"
    }
   },
   "cell_type": "code",
   "source": "",
   "id": "316fafde44d695b6",
   "outputs": [],
   "execution_count": 80
  },
  {
   "metadata": {
    "ExecuteTime": {
     "end_time": "2024-11-13T15:22:35.328280Z",
     "start_time": "2024-11-13T15:22:35.320535Z"
    }
   },
   "cell_type": "code",
   "source": "",
   "id": "660d32c76d6a1914",
   "outputs": [],
   "execution_count": 80
  },
  {
   "metadata": {
    "ExecuteTime": {
     "end_time": "2024-11-16T14:40:14.566985Z",
     "start_time": "2024-11-16T14:40:14.553694Z"
    }
   },
   "cell_type": "code",
   "source": "",
   "id": "592c412c912bf98e",
   "outputs": [],
   "execution_count": 4
  },
  {
   "metadata": {
    "ExecuteTime": {
     "end_time": "2024-11-16T14:40:28.232298Z",
     "start_time": "2024-11-16T14:40:28.218630Z"
    }
   },
   "cell_type": "code",
   "source": "",
   "id": "b26a73dc3fa86ec0",
   "outputs": [
    {
     "name": "stdout",
     "output_type": "stream",
     "text": [
      "(23^32) mod 123 = 37\n"
     ]
    }
   ],
   "execution_count": 5
  }
 ],
 "metadata": {
  "kernelspec": {
   "display_name": "Python 3",
   "language": "python",
   "name": "python3"
  },
  "language_info": {
   "codemirror_mode": {
    "name": "ipython",
    "version": 2
   },
   "file_extension": ".py",
   "mimetype": "text/x-python",
   "name": "python",
   "nbconvert_exporter": "python",
   "pygments_lexer": "ipython2",
   "version": "2.7.6"
  }
 },
 "nbformat": 4,
 "nbformat_minor": 5
}
