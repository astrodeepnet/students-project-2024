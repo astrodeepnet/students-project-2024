{
 "cells": [
  {
   "cell_type": "code",
   "execution_count": 1,
   "id": "initial_id",
   "metadata": {
    "ExecuteTime": {
     "end_time": "2024-11-13T14:44:20.088152Z",
     "start_time": "2024-11-13T14:44:19.715791Z"
    },
    "collapsed": true
   },
   "outputs": [],
   "source": [
    "import numpy as np\n",
    "import pandas as pd\n",
    "from astropy.io import fits"
   ]
  },
  {
   "cell_type": "code",
   "execution_count": 2,
   "id": "e434114ff0dd93d8",
   "metadata": {
    "ExecuteTime": {
    }
   },
   "cell_type": "code",
   "source": [
    "hdu1_data = hdulist[1].data\n",
    "df_c = pd.DataFrame(hdu1_data.tolist(), columns=hdu1_data.names)"
   ],
   "id": "98175ccb594429e6",
   "outputs": [],
   "execution_count": 3
  },
  {
   "metadata": {
    "ExecuteTime": {
     "end_time": "2024-11-24T22:47:05.487426Z",
     "start_time": "2024-11-24T22:47:05.474885Z"
    }
   },
   "cell_type": "code",
   "source": [
    "# keep 10 rows TODO : REMOVE for the real pipeline\n",
    "df_c = df_c.head(10)"
   ],
   "id": "8c2927fa3e54624e",
   "outputs": [],
   "execution_count": 4
  },
  {
   "cell_type": "code",
   "source": "df = df_c # used a s backup since df_c takes 5 minutes to load",
   "id": "8abbdee6afae40e6",
   "outputs": [],
   "execution_count": 32
  },
  {
   "metadata": {
    "ExecuteTime": {
    }
   },
   "cell_type": "code",
   "source": [
    "# drop 1st row (calibration)\n",
    "df = df.drop(0)\n",
    "\n",
    "# subset all chemical abundances (collumn name contain \"_FE\")\n",
    "chemical_subset = df.filter(regex='_FE', axis=1) \n",
    "\n",
    "# merge with + df.filter(regex='_H', axis=1)\n",
    "chemical_subset = pd.concat([chemical_subset, df.filter(regex='_H', axis=1)], axis=1)\n",
    "\n",
    "to_remove_from_chemicals = ['RV_FEH', 'MIN_H', 'MAX_H', 'GAIAEDR3_R_HI_GEO', 'GAIAEDR3_R_HI_PHOTOGEO','CU_FE_ERR',\n",
    "                            'P_FE_ERR','P_FE_FLAG',\n",
    "                            'CU_FE_FLAG',\n",
    "                            'M_H', 'M_H_ERR', 'X_H_SPEC', 'X_H', 'X_H_ERR']\n",
    "chemical_subset = chemical_subset.drop(to_remove_from_chemicals, axis=1)\n",
    "\n",
    "# create a df without the chemical abundances\n",
    "df = df.drop(chemical_subset.columns, axis=1)\n",
    "\n",
    "to_remove_from_main_dataset = ['P_FE_ERR',\n",
    "'P_FE_FLAG',\n",
    "'CU_FE_ERR', 'GAIAEDR3_PARALLAX_ERROR', 'GAIAEDR3_PMRA', 'GAIAEDR3_PMRA_ERROR',\n",
    "'GAIAEDR3_PMDEC', 'GAIAEDR3_PMDEC_ERROR', 'GAIAEDR3_PHOT_G_MEAN_MAG',\n",
    "'GAIAEDR3_PHOT_BP_MEAN_MAG', 'GAIAEDR3_PHOT_RP_MEAN_MAG',\n",
    "'GAIAEDR3_DR2_RADIAL_VELOCITY', 'GAIAEDR3_DR2_RADIAL_VELOCITY_ERROR',\n",
    "'GAIAEDR3_R_MED_GEO', 'GAIAEDR3_R_LO_GEO', 'GAIAEDR3_R_HI_GEO',\n",
    "'GAIAEDR3_R_MED_PHOTOGEO', 'GAIAEDR3_R_LO_PHOTOGEO',\n",
    "'GAIAEDR3_R_HI_PHOTOGEO','MEANFIB', 'SIGFIB','AK_TARG', 'AK_TARG_METHOD',\n",
    "'APOGEE_TARGET1', 'APOGEE_TARGET2', 'APOGEE2_TARGET1',\n",
    "'APOGEE2_TARGET2', 'APOGEE2_TARGET3', 'APOGEE2_TARGET4',\n",
    "'RV_CHI2','RV_CCFWHM', 'RV_AUTOFWHM','VSCATTER', 'VERR', 'RV_FEH', 'RV_FLAG', 'MIN_H', 'MAX_H',\n",
    "'MIN_JK', 'MAX_JK', 'GAIAEDR3_SOURCE_ID', 'GAIAEDR3_PARALLAX',\n",
    "'ASPCAP_GRID', 'ASPCAP_CHI2','FRAC_BADPIX','FRAC_LOWSNR', 'FRAC_SIGSKY',\n",
    "'ELEM_CHI2', 'ELEMFRAC', 'EXTRATARG', 'MEMBERFLAG', 'MEMBER','X_H_SPEC', 'X_M_SPEC',\n",
    "'FRAC_BADPIX','FRAC_LOWSNR', 'FRAC_SIGSKY','ELEM_CHI2', 'ELEMFRAC',\n",
    "'X_H_SPEC', 'X_M_SPEC','TEFF_SPEC', 'LOGG_SPEC','CU_FE_FLAG', 'ALT_ID', 'PROGRAMNAME', \n",
    "'RV_TEFF', 'RV_LOGG', 'RV_ALPHA', 'RV_CARB', 'SNREV', 'SFD_EBV', 'N_COMPONENTS']\n",
    "\n",
    "df = df.drop(to_remove_from_main_dataset, axis=1)\n",
    "\n",
    "\n",
    "chemical_subset = chemical_subset[chemical_subset.columns.drop(list(chemical_subset.filter(regex='_SPEC')))]\n",
    "\n",
    "# remove collumns with 100% NaN values\n",
    "chemical_subset = chemical_subset.dropna(axis=1, how='all')\n",
    "\n",
    "chemical_subset_err = chemical_subset.filter(regex='_ERR', axis=1) \n",
    "chemical_subset_flag = chemical_subset.filter(regex='_FLAG', axis=1) \n",
    "\n",
    "# remove _ERR and _FLAG from chemical_subset\n",
    "chemical_subset = chemical_subset.drop(chemical_subset_err.columns, axis=1)\n",
    "chemical_subset = chemical_subset.drop(chemical_subset_flag.columns, axis=1)\n",
    "\n",
    "\n",
    "# parse the list of all chemical elements in the dataset\n",
    "\n",
    "chemical_elements = [x.split('_')[0] for x in chemical_subset.columns]"
   ],
   "id": "2f0320547b1bcfd9",
   "outputs": [],
   "execution_count": 33
  },
  {
   "cell_type": "code",
   "source": [
    "display(df.columns)\n",
    "display(chemical_subset.columns)\n",
    "display(chemical_subset_err.columns)\n",
    "display(chemical_subset_flag.columns)\n",
    "display(chemical_elements)"
   ],
   "id": "c5e875257d173d5c",
   "outputs": [
    {
     "data": {
      "text/plain": [
       "Index(['APOGEE_ID', 'TELESCOPE', 'FIELD', 'RA', 'DEC', 'GLON', 'GLAT', 'J',\n",
       "       'J_ERR', 'H', 'H_ERR', 'K', 'K_ERR', 'AK_WISE', 'TARGFLAGS', 'SURVEY',\n",
       "       'NVISITS', 'SNR', 'STARFLAG', 'STARFLAGS', 'ANDFLAG', 'ANDFLAGS',\n",
       "       'VHELIO_AVG', 'PARAMFLAG', 'ASPCAPFLAG', 'ASPCAPFLAGS', 'X_H',\n",
       "       'X_H_ERR', 'X_M', 'X_M_ERR', 'TEFF', 'TEFF_ERR', 'LOGG', 'LOGG_ERR',\n",
       "       'M_H', 'M_H_ERR', 'ALPHA_M', 'ALPHA_M_ERR', 'VMICRO', 'VMACRO',\n",
       "       'VSINI'],\n",
       "      dtype='object')"
      ]
     },
     "metadata": {},
     "output_type": "display_data"
    },
    {
     "data": {
      "text/plain": [
       "Index(['C_FE', 'CI_FE', 'N_FE', 'O_FE', 'NA_FE', 'MG_FE', 'AL_FE', 'SI_FE',\n",
       "       'S_FE', 'K_FE', 'CA_FE', 'TI_FE', 'TIII_FE', 'V_FE', 'CR_FE', 'MN_FE',\n",
       "       'CO_FE', 'NI_FE', 'CE_FE', 'FE_H'],\n",
       "      dtype='object')"
      ]
     },
     "metadata": {},
     "output_type": "display_data"
    },
    {
     "data": {
      "text/plain": [
       "Index(['C_FE_ERR', 'CI_FE_ERR', 'N_FE_ERR', 'O_FE_ERR', 'NA_FE_ERR',\n",
       "       'MG_FE_ERR', 'AL_FE_ERR', 'SI_FE_ERR', 'S_FE_ERR', 'K_FE_ERR',\n",
       "       'CA_FE_ERR', 'TI_FE_ERR', 'TIII_FE_ERR', 'V_FE_ERR', 'CR_FE_ERR',\n",
       "       'MN_FE_ERR', 'CO_FE_ERR', 'NI_FE_ERR', 'CE_FE_ERR', 'FE_H_ERR'],\n",
       "      dtype='object')"
      ]
     },
     "metadata": {},
     "output_type": "display_data"
    },
    {
     "data": {
      "text/plain": [
       "Index(['C_FE_FLAG', 'CI_FE_FLAG', 'N_FE_FLAG', 'O_FE_FLAG', 'NA_FE_FLAG',\n",
       "       'MG_FE_FLAG', 'AL_FE_FLAG', 'SI_FE_FLAG', 'S_FE_FLAG', 'K_FE_FLAG',\n",
       "       'CA_FE_FLAG', 'TI_FE_FLAG', 'TIII_FE_FLAG', 'V_FE_FLAG', 'CR_FE_FLAG',\n",
       "       'MN_FE_FLAG', 'CO_FE_FLAG', 'NI_FE_FLAG', 'CE_FE_FLAG', 'FE_H_FLAG'],\n",
       "      dtype='object')"
      ]
     },
     "metadata": {},
     "output_type": "display_data"
    }
   ],
   "source": [
    "display(chemical_subset.columns)\n",
    "display(chemical_subset_err.columns)\n",
    "display(chemical_subset_flag.columns)"
   ]
  },
  {
   "cell_type": "code",
   "execution_count": 46,
   "id": "551de6fea3cd14f9",
   "metadata": {
    "ExecuteTime": {
     "end_time": "2024-11-13T15:22:31.279544Z",
     "start_time": "2024-11-13T15:22:31.267467Z"
    }
   },
   "outputs": [
    {
     "name": "stdout",
     "output_type": "stream",
     "text": [
      "APOGEE_ID\n",
      "TELESCOPE\n",
      "FIELD\n",
      "RA\n",
      "DEC\n",
      "GLON\n",
      "GLAT\n",
      "J\n",
      "J_ERR\n",
      "H\n",
      "H_ERR\n",
      "K\n",
      "K_ERR\n",
      "AK_TARG\n",
      "AK_TARG_METHOD\n",
      "AK_WISE\n",
      "TARGFLAGS\n",
      "SURVEY\n",
      "NVISITS\n",
      "SNR\n",
      "STARFLAG\n",
      "STARFLAGS\n",
      "ANDFLAG\n",
      "ANDFLAGS\n",
      "VHELIO_AVG\n",
      "VSCATTER\n",
      "VERR\n",
      "RV_FEH\n",
      "MIN_H\n",
      "MAX_H\n",
      "MIN_JK\n",
      "MAX_JK\n",
      "GAIAEDR3_SOURCE_ID\n",
      "GAIAEDR3_PARALLAX\n",
      "GAIAEDR3_PARALLAX_ERROR\n",
      "GAIAEDR3_PMRA\n",
      "GAIAEDR3_PMRA_ERROR\n",
      "GAIAEDR3_PMDEC\n",
      "GAIAEDR3_PMDEC_ERROR\n",
      "GAIAEDR3_PHOT_G_MEAN_MAG\n",
      "GAIAEDR3_PHOT_BP_MEAN_MAG\n",
      "GAIAEDR3_PHOT_RP_MEAN_MAG\n",
      "GAIAEDR3_DR2_RADIAL_VELOCITY\n",
      "GAIAEDR3_DR2_RADIAL_VELOCITY_ERROR\n",
      "GAIAEDR3_R_MED_GEO\n",
      "GAIAEDR3_R_LO_GEO\n",
      "GAIAEDR3_R_HI_GEO\n",
      "GAIAEDR3_R_MED_PHOTOGEO\n",
      "GAIAEDR3_R_LO_PHOTOGEO\n",
      "GAIAEDR3_R_HI_PHOTOGEO\n",
      "PARAMFLAG\n",
      "ASPCAPFLAGS\n",
      "X_H\n",
      "X_H_ERR\n",
      "ELEM_CHI2\n",
      "ELEMFRAC\n",
      "MEMBERFLAG\n",
      "MEMBER\n",
      "X_H_SPEC\n",
      "TEFF\n",
      "TEFF_ERR\n",
      "LOGG\n",
      "LOGG_ERR\n",
      "M_H\n",
      "M_H_ERR\n",
      "ALPHA_M\n",
      "ALPHA_M_ERR\n",
      "VMICRO\n",
      "VMACRO\n",
      "VSINI\n",
      "TEFF_SPEC\n",
      "LOGG_SPEC\n"
     ]
    }
   ],
   "source": [
    "for col in df.columns:\n",
    "    print(col)"
   ]
  },
  {
   "cell_type": "code",
   "execution_count": 47,
   "id": "8ed111680dbc445e",
   "metadata": {
    "ExecuteTime": {
     "end_time": "2024-11-13T15:56:14.958398Z",
     "start_time": "2024-11-13T15:56:11.596697Z"
    }
   },
   "outputs": [
    {
     "data": {
      "text/plain": [
       "1         APOGEE2_TWOBIN_GT_0_8,APOGEE2_WISE_DERED,APOGE...\n",
       "2         APOGEE2_SFD_DERED,APOGEE2_SHORT,APOGEE2_NORMAL...\n",
       "3                           APOGEE_NO_DERED,APOGEE_TELLURIC\n",
       "4                                              APOGEE_SHORT\n",
       "5           APOGEE2_MAGCLOUD_CANDIDATE,APOGEE2_GAIA_OVERLAP\n",
       "                                ...                        \n",
       "733896    APOGEE2_SFD_DERED,APOGEE2_SHORT,APOGEE2_NORMAL...\n",
       "733897                                         APOGEE_SHORT\n",
       "733898    APOGEE2_WISE_DERED,APOGEE2_SHORT,APOGEE2_MANGA...\n",
       "733899      APOGEE2_MAGCLOUD_CANDIDATE,APOGEE2_GAIA_OVERLAP\n",
       "733900                      APOGEE_NO_DERED,APOGEE_TELLURIC\n",
       "Name: TARGFLAGS, Length: 733900, dtype: object"
      ]
     },
     "execution_count": 47,
     "metadata": {},
     "output_type": "execute_result"
    }
   ],
   "source": [
    "df['TARGFLAGS']"
   ]
  },
  {
   "cell_type": "code",
   "execution_count": 9,
   "id": "5a339939e8cf472",
   "metadata": {
    "ExecuteTime": {
     "end_time": "2024-11-13T15:22:35.015200Z",
     "start_time": "2024-11-13T15:22:35.008136Z"
    }
   },
   "outputs": [],
   "source": [
    "targflags=df['TARGFLAGS'].str.split(\",\")"
   ]
  },
  {
   "cell_type": "code",
   "execution_count": 10,
   "id": "316fafde44d695b6",
   "metadata": {
    "ExecuteTime": {
     "end_time": "2024-11-13T15:22:35.029229Z",
     "start_time": "2024-11-13T15:22:35.021389Z"
    }
   },
   "outputs": [],
   "source": [
    "targflags_expl=targflags.explode()"
   ]
  },
  {
   "cell_type": "code",
   "execution_count": 11,
   "id": "660d32c76d6a1914",
   "metadata": {
    "ExecuteTime": {
     "end_time": "2024-11-13T15:22:35.328280Z",
     "start_time": "2024-11-13T15:22:35.320535Z"
    }
   },
   "outputs": [
    {
     "data": {
      "text/plain": [
       "1              APOGEE2_TWOBIN_GT_0_8\n",
       "1                 APOGEE2_WISE_DERED\n",
       "1                      APOGEE2_SHORT\n",
       "1              APOGEE2_NORMAL_SAMPLE\n",
       "2                  APOGEE2_SFD_DERED\n",
       "                     ...            \n",
       "733898         APOGEE2_ONEBIN_GT_0_3\n",
       "733899    APOGEE2_MAGCLOUD_CANDIDATE\n",
       "733899          APOGEE2_GAIA_OVERLAP\n",
       "733900               APOGEE_NO_DERED\n",
       "733900               APOGEE_TELLURIC\n",
       "Name: TARGFLAGS, Length: 2070005, dtype: object"
      ]
     },
     "execution_count": 11,
     "metadata": {},
     "output_type": "execute_result"
    }
   ],
   "source": [
    "targflags_expl"
   ]
  },
  {
   "cell_type": "code",
   "execution_count": 12,
   "id": "592c412c912bf98e",
   "metadata": {},
   "outputs": [],
   "source": [
    "starflags=df['STARFLAGS'].str.split(\",\")"
   ]
  },
  {
   "cell_type": "code",
   "execution_count": 13,
   "id": "ac881c8d",
   "metadata": {},
   "outputs": [],
   "source": [
    "starflags_expl=starflags.explode()"
   ]
  },
  {
   "cell_type": "code",
   "execution_count": 14,
   "id": "8a7e7e6a",
   "metadata": {},
   "outputs": [
    {
     "data": {
      "text/plain": [
       "1             PERSIST_MED\n",
       "1             PERSIST_LOW\n",
       "2                        \n",
       "3            PERSIST_HIGH\n",
       "4                        \n",
       "               ...       \n",
       "733898    BRIGHT_NEIGHBOR\n",
       "733898        PERSIST_LOW\n",
       "733899                   \n",
       "733900    BRIGHT_NEIGHBOR\n",
       "733900       PERSIST_HIGH\n",
       "Name: STARFLAGS, Length: 899845, dtype: object"
      ]
     },
     "execution_count": 14,
     "metadata": {},
     "output_type": "execute_result"
    }
   ],
   "source": [
    "starflags_expl"
   ]
  },
  {
   "cell_type": "code",
   "execution_count": 15,
   "id": "70822c4f",
   "metadata": {},
   "outputs": [],
   "source": [
    "andflags=df['ANDFLAGS'].str.split(\",\")"
   ]
  },
  {
   "cell_type": "code",
   "execution_count": 16,
   "id": "07467929",
   "metadata": {},
   "outputs": [],
   "source": [
    "andflags_expl=andflags.explode()"
   ]
  },
  {
   "cell_type": "code",
   "execution_count": 17,
   "id": "7e75ba82",
   "metadata": {},
   "outputs": [
    {
     "data": {
      "text/plain": [
       "1                     \n",
       "2                     \n",
       "3         PERSIST_HIGH\n",
       "4                     \n",
       "5                     \n",
       "              ...     \n",
       "733896                \n",
       "733897                \n",
       "733898                \n",
       "733899                \n",
       "733900                \n",
       "Name: ANDFLAGS, Length: 779168, dtype: object"
      ]
     },
     "execution_count": 17,
     "metadata": {},
     "output_type": "execute_result"
    }
   ],
   "source": [
    "andflags_expl"
   ]
  },
  {
   "cell_type": "code",
   "execution_count": 18,
   "id": "cef5202b",
   "metadata": {},
   "outputs": [],
   "source": [
    "paramflags_expl=df[\"PARAMFLAG\"].explode()"
   ]
  },
  {
   "cell_type": "code",
   "execution_count": 19,
   "id": "17f6b6f1",
   "metadata": {},
   "outputs": [
    {
     "data": {
      "text/plain": [
       "1                0\n",
       "1         33554432\n",
       "1                0\n",
       "1                0\n",
       "1                0\n",
       "            ...   \n",
       "733900          32\n",
       "733900         288\n",
       "733900           0\n",
       "733900           0\n",
       "733900           0\n",
       "Name: PARAMFLAG, Length: 6605100, dtype: object"
      ]
     },
     "execution_count": 19,
     "metadata": {},
     "output_type": "execute_result"
    }
   ],
   "source": [
    "paramflags_expl"
   ]
  },
  {
   "cell_type": "code",
   "execution_count": 20,
   "id": "a810e2b1",
   "metadata": {},
   "outputs": [],
   "source": [
    "aspcapflags=df[\"ASPCAPFLAGS\"].str.split(\",\")"
   ]
  },
  {
   "cell_type": "code",
   "execution_count": 21,
   "id": "3be955ec",
   "metadata": {},
   "outputs": [],
   "source": [
    "aspcapflags_expl=aspcapflags.explode()"
   ]
  },
  {
   "cell_type": "code",
   "execution_count": 22,
   "id": "68e00d61",
   "metadata": {},
   "outputs": [
    {
     "data": {
      "text/plain": [
       "1                         \n",
       "2              VMICRO_WARN\n",
       "2                 N_M_WARN\n",
       "3                         \n",
       "4                         \n",
       "                ...       \n",
       "733896    MULTIPLE_SUSPECT\n",
       "733897                    \n",
       "733898                    \n",
       "733899                    \n",
       "733900            N_M_WARN\n",
       "Name: ASPCAPFLAGS, Length: 1338362, dtype: object"
      ]
     },
     "execution_count": 22,
     "metadata": {},
     "output_type": "execute_result"
    }
   ],
   "source": [
    "aspcapflags_expl"
   ]
  },
  {
   "cell_type": "code",
   "execution_count": 23,
   "id": "750a2a24",
   "metadata": {},
   "outputs": [
    {
     "data": {
      "text/plain": [
       "array([                  0,      70368744177664,              131072,\n",
       "             1099511627776, 1152921504606846976,       2199023255552,\n",
       "        576460752303423488,     140737488355328,             1048576,\n",
       "             4398046511104,          1073741824,               16384,\n",
       "                     32768,                4096, 2305843009213693952,\n",
       "                      8192,               65536,              262144,\n",
       "            17592186044416,  288230376151711744,          2147483648,\n",
       "                        16,             4194304,            33554432,\n",
       "                         4,            16777216,         17179869184,\n",
       "                       128,  144115188075855872,                   8,\n",
       "         72057594037927936,        137438953472,                 256,\n",
       "             8796093022208,                1024,                  64,\n",
       "                       512,         68719476736,          4294967296,\n",
       "                         1,   36028797018963968,     562949953421312,\n",
       "                  67108864,      35184372088832,    1125899906842624,\n",
       "              549755813888,     281474976710656,   18014398509481984,\n",
       "              274877906944,    9007199254740992,           536870912,\n",
       "               34359738368,          8589934592,    4503599627370496,\n",
       "                   8388608,           134217728,             2097152,\n",
       "                      2048,                   2,                  32,\n",
       "                    524288])"
      ]
     },
     "execution_count": 23,
     "metadata": {},
     "output_type": "execute_result"
    }
   ],
   "source": [
    "df[\"MEMBERFLAG\"].unique()\n",
    "#pas besoin de split/explode"
   ]
  },
  {
   "cell_type": "code",
   "execution_count": 24,
   "id": "b31de2cb",
   "metadata": {},
   "outputs": [],
   "source": [
    "survey=df[\"SURVEY\"].str.split(\",\")"
   ]
  },
  {
   "cell_type": "code",
   "execution_count": 25,
   "id": "9191b081",
   "metadata": {},
   "outputs": [],
   "source": [
    "survey_expl=survey.explode()"
   ]
  },
  {
   "cell_type": "code",
   "execution_count": 26,
   "id": "597a958a",
   "metadata": {},
   "outputs": [
    {
     "data": {
      "text/plain": [
       "1               apogee2\n",
       "2               apogee2\n",
       "3                apogee\n",
       "4                apogee\n",
       "5              apogee2s\n",
       "              ...      \n",
       "733896          apogee2\n",
       "733897           apogee\n",
       "733898    manga-apogee2\n",
       "733899         apogee2s\n",
       "733900           apogee\n",
       "Name: SURVEY, Length: 745357, dtype: object"
      ]
     },
     "execution_count": 26,
     "metadata": {},
     "output_type": "execute_result"
    }
   ],
   "source": [
    "survey_expl"
   ]
  },
  {
   "cell_type": "code",
   "execution_count": 27,
   "id": "3859e6c5",
   "metadata": {},
   "outputs": [
    {
     "name": "stdout",
     "output_type": "stream",
     "text": [
      "C_FE_FLAG int64\n",
      "CI_FE_FLAG int64\n",
      "N_FE_FLAG int64\n",
      "O_FE_FLAG int64\n",
      "NA_FE_FLAG int64\n",
      "MG_FE_FLAG int64\n",
      "AL_FE_FLAG int64\n",
      "SI_FE_FLAG int64\n",
      "S_FE_FLAG int64\n",
      "K_FE_FLAG int64\n",
      "CA_FE_FLAG int64\n",
      "TI_FE_FLAG int64\n",
      "TIII_FE_FLAG int64\n",
      "V_FE_FLAG int64\n",
      "CR_FE_FLAG int64\n",
      "MN_FE_FLAG int64\n",
      "CO_FE_FLAG int64\n",
      "NI_FE_FLAG int64\n",
      "CE_FE_FLAG int64\n",
      "FE_H_FLAG int64\n"
     ]
    }
   ],
   "source": [
    "for col in chemical_subset_flag.columns:\n",
    "    print(col,chemical_subset_flag[col].dtypes)"
   ]
  },
  {
   "cell_type": "code",
   "execution_count": 48,
   "id": "ef5ac97c",
   "metadata": {},
   "outputs": [
    {
     "data": {
      "text/plain": [
       "1         64\n",
       "2          0\n",
       "3          0\n",
       "4          0\n",
       "5          0\n",
       "          ..\n",
       "733896     0\n",
       "733897     0\n",
       "733898     0\n",
       "733899     0\n",
       "733900     0\n",
       "Name: AL_FE_FLAG, Length: 733900, dtype: int64"
      ]
     },
     "execution_count": 48,
     "metadata": {},
     "output_type": "execute_result"
    }
   ],
   "source": [
    "chemical_subset_flag[\"AL_FE_FLAG\"]"
   ]
  },
  {
   "cell_type": "code",
   "execution_count": 17,
   "id": "bdb950ad",
   "metadata": {},
   "outputs": [
    {
     "name": "stdout",
     "output_type": "stream",
     "text": [
      "               Bit Name  Binary Digit  \\\n",
      "0          GRIDEDGE_BAD             0   \n",
      "1          CALRANGE_BAD             1   \n",
      "2             OTHER_BAD             2   \n",
      "3            FERRE_FAIL             3   \n",
      "4    PARAM_MISMATCH_BAD             4   \n",
      "5        FERRE_ERR_USED             5   \n",
      "6              TEFF_CUT             6   \n",
      "7         GRIDEDGE_WARN             8   \n",
      "8         CALRANGE_WARN             9   \n",
      "9            OTHER_WARN            10   \n",
      "10           FERRE_WARN            11   \n",
      "11  PARAM_MISMATCH_WARN            12   \n",
      "12         OPTICAL_WARN            13   \n",
      "13             ERR_WARN            14   \n",
      "14           FAINT_WARN            15   \n",
      "15          PARAM_FIXED            16   \n",
      "16              RV_WARN            17   \n",
      "17              SPEC_RC            24   \n",
      "18             SPEC_RGB            25   \n",
      "19          LOGG_CAL_MS            26   \n",
      "20      LOGG_CAL_RGB_MS            27   \n",
      "\n",
      "                                          Description  \n",
      "0   Parameter within 1/8 grid spacing of grid edge...  \n",
      "1   Parameter outside valid range of calibration d...  \n",
      "2                               Other error condition  \n",
      "3                            Failed solution in FERRE  \n",
      "4   Elemental abundance from window differs signif...  \n",
      "5   FERRE uncertainty used (larger than parametric...  \n",
      "6   Star in region of parameter space where abunda...  \n",
      "7   Parameter within 1 grid spacing of grid edge (...  \n",
      "8   Parameter in possibly unreliable range of cali...  \n",
      "9                             Other warning condition  \n",
      "10                   FERRE warning (not implemented?)  \n",
      "11  Elemental abundance from window differs from p...  \n",
      "12  Comparison with optical abundances suggests pr...  \n",
      "13  Large expected uncertainty or upper limit base...  \n",
      "14         Warning based on faint star/RV combination  \n",
      "15              Parameter set at fixed value, not fit  \n",
      "16                 RV puts important line off of chip  \n",
      "17               Spectroscopically identified RC star  \n",
      "18              Spectroscopically identified RGB star  \n",
      "19                   DR16: use MS gravity calibration  \n",
      "20    DR16: use RBG/MS transition gravity calibration  \n"
     ]
    }
   ],
   "source": [
    "# Données pour la table\n",
    "chemicals_flag_bitmask = {\n",
    "    \"Bit Name\": [\n",
    "        \"GRIDEDGE_BAD\", \"CALRANGE_BAD\", \"OTHER_BAD\", \"FERRE_FAIL\", \n",
    "        \"PARAM_MISMATCH_BAD\", \"FERRE_ERR_USED\", \"TEFF_CUT\", \n",
    "        \"GRIDEDGE_WARN\", \"CALRANGE_WARN\", \"OTHER_WARN\", \"FERRE_WARN\", \n",
    "        \"PARAM_MISMATCH_WARN\", \"OPTICAL_WARN\", \"ERR_WARN\", \n",
    "        \"FAINT_WARN\", \"PARAM_FIXED\", \"RV_WARN\", \n",
    "        \"SPEC_RC\", \"SPEC_RGB\", \"LOGG_CAL_MS\", \"LOGG_CAL_RGB_MS\"\n",
    "    ],\n",
    "    \"Binary Digit\": [\n",
    "        0, 1, 2, 3, 4, 5, 6, 8, 9, 10, 11, 12, 13, 14, 15, 16, 17, 24, 25, 26, 27\n",
    "    ],\n",
    "    \"Description\": [\n",
    "        \"Parameter within 1/8 grid spacing of grid edge : true value may be off grid\",\n",
    "        \"Parameter outside valid range of calibration determination\",\n",
    "        \"Other error condition\",\n",
    "        \"Failed solution in FERRE\",\n",
    "        \"Elemental abundance from window differs significantly from parameter abundance\",\n",
    "        \"FERRE uncertainty used (larger than parametric uncertainty)\",\n",
    "        \"Star in region of parameter space where abundances do not appear valid for this element\",\n",
    "        \"Parameter within 1 grid spacing of grid edge (not necessarily bad)\",\n",
    "        \"Parameter in possibly unreliable range of calibration determination\",\n",
    "        \"Other warning condition\",\n",
    "        \"FERRE warning (not implemented?)\",\n",
    "        \"Elemental abundance from window differs from parameter abundance\",\n",
    "        \"Comparison with optical abundances suggests problem\",\n",
    "        \"Large expected uncertainty or upper limit based on location in parameter space (Teff, [M/H], S/N)\",\n",
    "        \"Warning based on faint star/RV combination\",\n",
    "        \"Parameter set at fixed value, not fit\",\n",
    "        \"RV puts important line off of chip\",\n",
    "        \"Spectroscopically identified RC star\",\n",
    "        \"Spectroscopically identified RGB star\",\n",
    "        \"DR16: use MS gravity calibration\",\n",
    "        \"DR16: use RBG/MS transition gravity calibration\"\n",
    "    ]\n",
    "}\n",
    "\n",
    "# Création du DataFrame\n",
    "chemicals_flag_bitmask_df = pd.DataFrame(chemicals_flag_bitmask)\n",
    "\n",
    "# Afficher le tableau\n",
    "print(chemicals_flag_bitmask_df)"
   ]
  },
  {
   "cell_type": "code",
   "execution_count": null,
   "id": "4565712e",
   "metadata": {},
   "outputs": [],
   "source": [
    "# Fonction pour obtenir la décomposition en puissances de 2\n",
    "def decomposition_en_puissances(n):\n",
    "    puissances = []\n",
    "    for i in range(n.bit_length()):  # bit_length donne le nombre de bits nécessaires\n",
    "        if n & (1 << i):  # Vérifie si le ième bit est à 1\n",
    "            puissances.append(i)  # Ajoute la puissance correspondante\n",
    "    return \",\".join(map(str, puissances[::-1]))  # Inverser pour afficher du plus grand au plus petit\n",
    "\n",
    "# Appliquer la fonction à toutes les colonnes du DataFrame\n",
    "for col in chemical_subset_flag.columns:\n",
    "    chemical_subset_flag[col] = chemical_subset_flag[col].apply(decomposition_en_puissances)"
   ]
  },
  {
   "cell_type": "code",
   "execution_count": 74,
   "id": "bcc4c5ca",
   "metadata": {},
   "outputs": [
    {
     "data": {
      "text/plain": [
       "1           0\n",
       "2         256\n",
       "3          32\n",
       "4         288\n",
       "5           0\n",
       "         ... \n",
       "733896      0\n",
       "733897      0\n",
       "733898      0\n",
       "733899    288\n",
       "733900    288\n",
       "Name: N_FE_FLAG, Length: 733900, dtype: int64"
      ]
     },
     "execution_count": 74,
     "metadata": {},
     "output_type": "execute_result"
    }
   ],
   "source": [
    "chemical_subset_flag[\"N_FE_FLAG\"]"
   ]
  },
  {
   "cell_type": "code",
   "execution_count": 51,
   "id": "42c27b2b",
   "metadata": {},
   "outputs": [],
   "source": [
    "# Fonction pour convertir un nombre en liste de puissances de 2\n",
    "def decompose_to_powers_of_2(number):\n",
    "    powers = []\n",
    "    bit_position = 0\n",
    "    while number > 0:\n",
    "        if number & 1:\n",
    "            powers.append(bit_position)\n",
    "        number >>= 1\n",
    "        bit_position += 1\n",
    "    return powers"
   ]
  },
  {
   "cell_type": "code",
   "execution_count": 88,
   "id": "45f2ff55",
   "metadata": {},
   "outputs": [
    {
     "name": "stderr",
     "output_type": "stream",
     "text": [
      "C:\\Users\\axioz\\AppData\\Local\\Temp\\ipykernel_11332\\1054887720.py:2: FutureWarning: DataFrame.applymap has been deprecated. Use DataFrame.map instead.\n",
      "  df_transformed = chemical_subset_flag.applymap(decompose_to_powers_of_2)\n"
     ]
    },
    {
     "name": "stdout",
     "output_type": "stream",
     "text": [
      "       C_FE_FLAG CI_FE_FLAG N_FE_FLAG O_FE_FLAG NA_FE_FLAG MG_FE_FLAG  \\\n",
      "1             []         []        []        []         []         []   \n",
      "2             []         []       [8]        []         []         []   \n",
      "3             []         []       [5]        []         []         []   \n",
      "4             []         []    [5, 8]        []         []         []   \n",
      "5             []        [0]        []        []         []         []   \n",
      "...          ...        ...       ...       ...        ...        ...   \n",
      "733896        []         []        []        []         []         []   \n",
      "733897        []         []        []        []         []         []   \n",
      "733898        []         []        []        []         []         []   \n",
      "733899        []         []    [5, 8]        []         []         []   \n",
      "733900        []         []    [5, 8]        []         []         []   \n",
      "\n",
      "       AL_FE_FLAG SI_FE_FLAG S_FE_FLAG K_FE_FLAG CA_FE_FLAG TI_FE_FLAG  \\\n",
      "1             [6]         []       [6]        []         []        [6]   \n",
      "2              []         []        []        []         []         []   \n",
      "3              []         []        []        []         []         []   \n",
      "4              []         []        []        []         []        [0]   \n",
      "5              []         []        []        []         []         []   \n",
      "...           ...        ...       ...       ...        ...        ...   \n",
      "733896         []         []        []        []         []         []   \n",
      "733897         []         []        []        []         []         []   \n",
      "733898         []         []        []        []         []         []   \n",
      "733899         []         []       [0]        []         []         []   \n",
      "733900         []         []        []        []         []         []   \n",
      "\n",
      "       TIII_FE_FLAG V_FE_FLAG CR_FE_FLAG MN_FE_FLAG CO_FE_FLAG NI_FE_FLAG  \\\n",
      "1               [6]        []        [6]        [6]         []         []   \n",
      "2               [6]        []         []         []        [6]         []   \n",
      "3               [6]        []         []         []        [6]         []   \n",
      "4               [6]        []         []         []        [6]         []   \n",
      "5               [0]        []         []         []         []         []   \n",
      "...             ...       ...        ...        ...        ...        ...   \n",
      "733896          [6]        []         []         []        [6]         []   \n",
      "733897           []        []         []         []         []         []   \n",
      "733898           []        []         []         []         []         []   \n",
      "733899       [0, 8]        []         []         []         []         []   \n",
      "733900          [6]        []         []         []        [6]         []   \n",
      "\n",
      "       CE_FE_FLAG FE_H_FLAG  \n",
      "1             [6]        []  \n",
      "2             [6]        []  \n",
      "3             [6]        []  \n",
      "4             [6]        []  \n",
      "5              []        []  \n",
      "...           ...       ...  \n",
      "733896        [6]        []  \n",
      "733897         []        []  \n",
      "733898         []        []  \n",
      "733899         []        []  \n",
      "733900        [6]        []  \n",
      "\n",
      "[733900 rows x 20 columns]\n"
     ]
    }
   ],
   "source": [
    "# Appliquer cette fonction sur chaque valeur du dataframe\n",
    "df_transformed = chemical_subset_flag.applymap(decompose_to_powers_of_2)\n",
    "\n",
    "# Affichage du DataFrame transformé\n",
    "print(df_transformed)"
   ]
  },
  {
   "cell_type": "code",
   "execution_count": 89,
   "id": "84c491ac",
   "metadata": {},
   "outputs": [
    {
     "data": {
      "text/plain": [
       "1             []\n",
       "2            [8]\n",
       "3            [5]\n",
       "4         [5, 8]\n",
       "5             []\n",
       "           ...  \n",
       "733896        []\n",
       "733897        []\n",
       "733898        []\n",
       "733899    [5, 8]\n",
       "733900    [5, 8]\n",
       "Name: N_FE_FLAG, Length: 733900, dtype: object"
      ]
     },
     "execution_count": 89,
     "metadata": {},
     "output_type": "execute_result"
    }
   ],
   "source": [
    "df_transformed[\"N_FE_FLAG\"]"
   ]
  },
  {
   "cell_type": "code",
   "execution_count": 90,
   "id": "596cf8f9",
   "metadata": {},
   "outputs": [],
   "source": [
    "# Ajouter une colonne 'ID' au DataFrame\n",
    "df_transformed['ID'] = range(1, len(df_transformed) + 1)"
   ]
  },
  {
   "cell_type": "code",
   "execution_count": null,
   "id": "f90d5844",
   "metadata": {},
   "outputs": [],
   "source": [
    "# Pour chaque colonne contenant des listes, appliquez explode\n",
    "for col in df_transformed.columns:\n",
    "    if df_transformed[col].apply(lambda x: isinstance(x, list)).any():  # Vérifie que la colonne contient des listes\n",
    "        df_transformed = df_transformed.explode(col, ignore_index=True)"
   ]
  },
  {
   "cell_type": "code",
   "execution_count": 1,
   "id": "506eec19",
   "metadata": {},
   "outputs": [
    {
     "ename": "NameError",
     "evalue": "name 'df_exploded' is not defined",
     "output_type": "error",
     "traceback": [
      "\u001b[1;31m---------------------------------------------------------------------------\u001b[0m",
      "\u001b[1;31mNameError\u001b[0m                                 Traceback (most recent call last)",
      "Cell \u001b[1;32mIn[1], line 1\u001b[0m\n\u001b[1;32m----> 1\u001b[0m \u001b[43mdf_exploded\u001b[49m\n",
      "\u001b[1;31mNameError\u001b[0m: name 'df_exploded' is not defined"
     ]
    }
   ],
   "source": [
    "df_transformed"
   ]
  },
  {
   "cell_type": "code",
   "execution_count": null,
   "id": "65f4233f",
   "metadata": {},
   "outputs": [],
   "source": []
  }
 ],
 "metadata": {
  "kernelspec": {
   "display_name": "Python 3",
   "language": "python",
   "name": "python3"
  },
  "language_info": {
   "codemirror_mode": {
    "name": "ipython",
    "version": 3
   },
   "file_extension": ".py",
   "mimetype": "text/x-python",
   "name": "python",
   "nbconvert_exporter": "python",
   "pygments_lexer": "ipython3",
   "version": "3.12.6"
  }
 },
 "nbformat": 4,
 "nbformat_minor": 5
}
